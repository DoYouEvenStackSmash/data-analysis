{
 "cells": [
  {
   "cell_type": "code",
   "execution_count": 1,
   "metadata": {},
   "outputs": [
    {
     "name": "stderr",
     "output_type": "stream",
     "text": [
      "\u001b[32m2023-09-07 14:03:49.290\u001b[0m | \u001b[1mINFO    \u001b[0m | \u001b[36m__main__\u001b[0m:\u001b[36m<module>\u001b[0m:\u001b[36m4\u001b[0m - \u001b[1mN,D,k,R,C,tree_build,data_build\u001b[0m\n"
     ]
    }
   ],
   "source": [
    "from loguru import logger\n",
    "\n",
    "!rm tree_builder.log\n",
    "logger.add(\"tree_builder.log\", rotation=\"10MB\", level=\"INFO\")\n",
    "logger.info(\"N,D,k,R,C,tree_build,data_build\")\n",
    "from clustering_driver import *"
   ]
  },
  {
   "cell_type": "code",
   "execution_count": 2,
   "metadata": {},
   "outputs": [],
   "source": [
    "# logger.info(\"N,D,k,R,C,tree_build,data_build\")"
   ]
  },
  {
   "cell_type": "code",
   "execution_count": 15,
   "metadata": {},
   "outputs": [
    {
     "name": "stdout",
     "output_type": "stream",
     "text": [
      "Loaded Array:\n",
      "(128, 128, 128)\n",
      "\u001b[32m2023-09-07 14:28:05.474\u001b[0m | \u001b[1mINFO    \u001b[0m | \u001b[36m__main__\u001b[0m:\u001b[36mhierarchify\u001b[0m:\u001b[36m51\u001b[0m - \u001b[1m128,16384,4,30,20,0.852099374998943,0.013325569001608528\u001b[0m\n",
      "Building hierarchical clustering\n",
      "Loaded Array:\n",
      "(256, 128, 128)\n",
      "\u001b[32m2023-09-07 14:28:07.639\u001b[0m | \u001b[1mINFO    \u001b[0m | \u001b[36m__main__\u001b[0m:\u001b[36mhierarchify\u001b[0m:\u001b[36m51\u001b[0m - \u001b[1m256,16384,4,30,20,1.2855523289908888,0.01615794400277082\u001b[0m\n",
      "Building hierarchical clustering\n",
      "Loaded Array:\n",
      "(512, 128, 128)\n",
      "\u001b[32m2023-09-07 14:28:12.775\u001b[0m | \u001b[1mINFO    \u001b[0m | \u001b[36m__main__\u001b[0m:\u001b[36mhierarchify\u001b[0m:\u001b[36m51\u001b[0m - \u001b[1m512,16384,4,30,20,4.208278131001862,0.031171852999250405\u001b[0m\n",
      "Building hierarchical clustering\n",
      "Loaded Array:\n",
      "(1024, 128, 128)\n",
      "\u001b[32m2023-09-07 14:28:24.434\u001b[0m | \u001b[1mINFO    \u001b[0m | \u001b[36m__main__\u001b[0m:\u001b[36mhierarchify\u001b[0m:\u001b[36m51\u001b[0m - \u001b[1m1024,16384,4,30,20,10.608650848007528,0.1281394329998875\u001b[0m\n",
      "Building hierarchical clustering\n"
     ]
    }
   ],
   "source": [
    "# files = [data_loading_wrapper(i) for i in [\"/home/aroot/images_from_structures_128.npy\", \"/home/aroot/images_from_structures_256.npy\", \"/home/aroot/images_from_structures_512.npy\", \"/home/aroot/images_from_structures_1024.npy\"]]\n",
    "# c = [i ** 2 for i in range(2, 8)]\n",
    "# c = [36]\n",
    "# k = 3\n",
    "# for M in files:\n",
    "# M = data_loading_wrapper(i)\n",
    "\n",
    "\n",
    "# for k in range(2,8,1):\n",
    "#   for C in c:\n",
    "#     hierarchify(M, P, k, 30, C)\n",
    "# hierarchify_wrapper(i, k, 30, C)\n",
    "!./clustering_driver.py build -i ~/images_from_structures_128.npy -k 4 -R 30 -C 20 -o models_128\n",
    "!./clustering_driver.py build -i ~/images_from_structures_256.npy -k 4 -R 30 -C 20 -o models_256\n",
    "!./clustering_driver.py build -i ~/images_from_structures_512.npy -k 4 -R 30 -C 20 -o models_512\n",
    "!./clustering_driver.py build -i ~/images_from_structures_1024.npy -k 4 -R 30 -C 20 -o models_1024\n",
    "# !ls"
   ]
  },
  {
   "cell_type": "code",
   "execution_count": 4,
   "metadata": {},
   "outputs": [
    {
     "name": "stdout",
     "output_type": "stream",
     "text": [
      "\u001b[32m2023-09-07 16:12:37.499\u001b[0m | \u001b[1mINFO    \u001b[0m | \u001b[36mlikelihood_scratch\u001b[0m:\u001b[36mevaluate_global_likelihood\u001b[0m:\u001b[36m223\u001b[0m - \u001b[1m1024,13.085189700999763\u001b[0m\n",
      "\u001b[32m2023-09-07 16:13:00.847\u001b[0m | \u001b[1mINFO    \u001b[0m | \u001b[36mlikelihood_scratch\u001b[0m:\u001b[36mevaluate_global_likelihood\u001b[0m:\u001b[36m223\u001b[0m - \u001b[1m1536,22.20253994000086\u001b[0m\n",
      "\u001b[32m2023-09-07 16:13:29.916\u001b[0m | \u001b[1mINFO    \u001b[0m | \u001b[36mlikelihood_scratch\u001b[0m:\u001b[36mevaluate_global_likelihood\u001b[0m:\u001b[36m223\u001b[0m - \u001b[1m2048,27.927392961995793\u001b[0m\n",
      "\u001b[32m2023-09-07 16:14:13.764\u001b[0m | \u001b[1mINFO    \u001b[0m | \u001b[36mlikelihood_scratch\u001b[0m:\u001b[36mevaluate_global_likelihood\u001b[0m:\u001b[36m223\u001b[0m - \u001b[1m2560,42.65149840299273\u001b[0m\n",
      "\u001b[32m2023-09-07 16:15:02.306\u001b[0m | \u001b[1mINFO    \u001b[0m | \u001b[36mlikelihood_scratch\u001b[0m:\u001b[36mevaluate_global_likelihood\u001b[0m:\u001b[36m223\u001b[0m - \u001b[1m3072,47.20105353501276\u001b[0m\n",
      "\u001b[32m2023-09-07 16:15:55.868\u001b[0m | \u001b[1mINFO    \u001b[0m | \u001b[36mlikelihood_scratch\u001b[0m:\u001b[36mevaluate_global_likelihood\u001b[0m:\u001b[36m223\u001b[0m - \u001b[1m3584,52.18573272200592\u001b[0m\n",
      "\u001b[32m2023-09-07 16:17:06.937\u001b[0m | \u001b[1mINFO    \u001b[0m | \u001b[36mlikelihood_scratch\u001b[0m:\u001b[36mevaluate_global_likelihood\u001b[0m:\u001b[36m223\u001b[0m - \u001b[1m4096,69.59029746000306\u001b[0m\n",
      "\u001b[32m2023-09-07 16:18:06.712\u001b[0m | \u001b[1mINFO    \u001b[0m | \u001b[36mlikelihood_scratch\u001b[0m:\u001b[36mevaluate_global_likelihood\u001b[0m:\u001b[36m223\u001b[0m - \u001b[1m4608,58.178059666999616\u001b[0m\n",
      "\u001b[32m2023-09-07 16:19:15.356\u001b[0m | \u001b[1mINFO    \u001b[0m | \u001b[36mlikelihood_scratch\u001b[0m:\u001b[36mevaluate_global_likelihood\u001b[0m:\u001b[36m223\u001b[0m - \u001b[1m5120,67.04669021700101\u001b[0m\n",
      "\u001b[32m2023-09-07 16:20:23.096\u001b[0m | \u001b[1mINFO    \u001b[0m | \u001b[36mlikelihood_scratch\u001b[0m:\u001b[36mevaluate_global_likelihood\u001b[0m:\u001b[36m223\u001b[0m - \u001b[1m5632,65.99193224300689\u001b[0m\n",
      "\u001b[32m2023-09-07 16:21:49.814\u001b[0m | \u001b[1mINFO    \u001b[0m | \u001b[36mlikelihood_scratch\u001b[0m:\u001b[36mevaluate_global_likelihood\u001b[0m:\u001b[36m223\u001b[0m - \u001b[1m6144,84.94384207599796\u001b[0m\n",
      "\u001b[32m2023-09-07 16:23:31.684\u001b[0m | \u001b[1mINFO    \u001b[0m | \u001b[36mlikelihood_scratch\u001b[0m:\u001b[36mevaluate_global_likelihood\u001b[0m:\u001b[36m223\u001b[0m - \u001b[1m6656,100.03522219401202\u001b[0m\n",
      "\u001b[32m2023-09-07 16:25:18.678\u001b[0m | \u001b[1mINFO    \u001b[0m | \u001b[36mlikelihood_scratch\u001b[0m:\u001b[36mevaluate_global_likelihood\u001b[0m:\u001b[36m223\u001b[0m - \u001b[1m7168,104.99448512899107\u001b[0m\n",
      "\u001b[32m2023-09-07 16:27:03.782\u001b[0m | \u001b[1mINFO    \u001b[0m | \u001b[36mlikelihood_scratch\u001b[0m:\u001b[36mevaluate_global_likelihood\u001b[0m:\u001b[36m223\u001b[0m - \u001b[1m7680,102.68254196499765\u001b[0m\n"
     ]
    }
   ],
   "source": [
    "# print(\"s128_im1024_snr1e-1\")\n",
    "# !./clustering_driver.py likelihood --models models_128_tree_hierarchy.json --images ~/images_experimental_1024_snr1e-1.npy -test -o s128_im1024_snr1e-1\n",
    "# print(\"s128_im2048_snr1e-1\")\n",
    "# !./clustering_driver.py likelihood --models models_128_tree_hierarchy.json --images ~/images_experimental_2048_snr1e-1.npy -test -o s128_im2048_snr1e-1\n",
    "# print(\"s128_im4096_snr1e-1\")\n",
    "# !./clustering_driver.py likelihood --models models_128_tree_hierarchy.json --images ~/images_experimental_4096_snr1e-1.npy -test -o s128_im4096_snr1e-1\n",
    "\n",
    "# print(\"s128_im1024_snr1e-2\")\n",
    "# !./clustering_driver.py likelihood --models models_128_tree_hierarchy.json --images ~/images_experimental_1024_snr1e-2.npy -test -o s128_im1024_snr1e-2\n",
    "# print(\"s128_im2048_snr1e-2\")\n",
    "# !./clustering_driver.py likelihood --models models_128_tree_hierarchy.json --images ~/images_experimental_2048_snr1e-2.npy -test -o s128_im2048_snr1e-2\n",
    "# print(\"s128_im4096_snr1e-2\")\n",
    "# !./clustering_driver.py likelihood --models models_128_tree_hierarchy.json --images ~/images_experimental_4096_snr1e-2.npy -test -o s128_im4096_snr1e-2\n",
    "\n",
    "# print(\"s256_im1024_snr1e-1\")\n",
    "# !./clustering_driver.py likelihood --models models_256_tree_hierarchy.json --images ~/images_experimental_1024_snr1e-1.npy -test -o s256_im1024_snr1e-1\n",
    "# print(\"s256_im2048_snr1e-1\")\n",
    "# !./clustering_driver.py likelihood --models models_256_tree_hierarchy.json --images ~/images_experimental_2048_snr1e-1.npy -test -o s256_im2048_snr1e-1\n",
    "# print(\"s256_im4096_snr1e-1\")\n",
    "# !./clustering_driver.py likelihood --models models_256_tree_hierarchy.json --images ~/images_experimental_4096_snr1e-1.npy -test -o s256_im4096_snr1e-1\n",
    "\n",
    "# # !./clustering_driver.py likelihood --models models_128_tree_hierarchy.json --images ~/images_experimental_1024_snr1e-2.npy -test -o s128_im1024_snr1e-2\n",
    "# # !./clustering_driver.py likelihood --models models_128_tree_hierarchy.json --images ~/images_experimental_2048_snr1e-2.npy -test -o s128_im2048_snr1e-2\n",
    "\n",
    "# !./clustering_driver.py likelihood --models models_256_tree_hierarchy.json --images ~/images_experimental_1024_snr1e-2.npy -test -o s256_im1024_snr1e-2\n",
    "# !./clustering_driver.py likelihood --models models_256_tree_hierarchy.json --images ~/images_experimental_1536_snr1e-2.npy -test -o s256_im1536_snr1e-2\n",
    "!./clustering_driver.py likelihood --models models_256_tree_hierarchy.json --images ~/images_experimental_2048_snr1e-2.npy -test -o s256_im2048_snr1e-2\n",
    "# !./clustering_driver.py likelihood --models models_256_tree_hierarchy.json --images ~/images_experimental_2560_snr1e-2.npy -test -o s256_im2560_snr1e-2\n",
    "# !./clustering_driver.py likelihood --models models_256_tree_hierarchy.json --images ~/images_experimental_3072_snr1e-2.npy -test -o s256_im3072_snr1e-2\n",
    "# !./clustering_driver.py likelihood --models models_256_tree_hierarchy.json --images ~/images_experimental_3584_snr1e-2.npy -test -o s256_im3584_snr1e-2\n",
    "# !./clustering_driver.py likelihood --models models_256_tree_hierarchy.json --images ~/images_experimental_4096_snr1e-2.npy -test -o s256_im4096_snr1e-2\n",
    "# !./clustering_driver.py likelihood --models models_256_tree_hierarchy.json --images ~/images_experimental_4608_snr1e-2.npy -test -o s256_im4608_snr1e-2\n",
    "# !./clustering_driver.py likelihood --models models_256_tree_hierarchy.json --images ~/images_experimental_5120_snr1e-2.npy -test -o s256_im5120_snr1e-2\n",
    "# !./clustering_driver.py likelihood --models models_256_tree_hierarchy.json --images ~/images_experimental_5632_snr1e-2.npy -test -o s256_im5632_snr1e-2\n",
    "# !./clustering_driver.py likelihood --models models_256_tree_hierarchy.json --images ~/images_experimental_6144_snr1e-2.npy -test -o s256_im6144_snr1e-2\n",
    "# !./clustering_driver.py likelihood --models models_256_tree_hierarchy.json --images ~/images_experimental_6656_snr1e-2.npy -test -o s256_im6656_snr1e-2\n",
    "# !./clustering_driver.py likelihood --models models_256_tree_hierarchy.json --images ~/images_experimental_7168_snr1e-2.npy -test -o s256_im7168_snr1e-2\n",
    "# !./clustering_driver.py likelihood --models models_256_tree_hierarchy.json --images ~/images_experimental_7680_snr1e-2.npy -test -o s256_im7680_snr1e-2\n",
    "# !./clustering_driver.py likelihood --models models_128_tree_hierarchy.json --images ~/images_experimental_1024_snr1e-2.npy"
   ]
  },
  {
   "cell_type": "code",
   "execution_count": null,
   "metadata": {},
   "outputs": [],
   "source": [
    "2023-09-07 14:04:10.336 | INFO     | clustering_driver:hierarchify:51 - 128,16384,4,30,20,0.4856298430095194,0.005367507008486427\n",
    "2023-09-07 14:08:58.856 | INFO     | clustering_driver:hierarchify:51 - 256,16384,4,30,20,1.637132110001403,0.016288610000628978\n",
    "2023-09-07 14:08:02.200 | INFO     | clustering_driver:hierarchify:51 - 512,16384,4,30,20,3.732320657989476,0.054391315003158525\n",
    "2023-09-07 13:58:55.277 | INFO     | clustering_driver:hierarchify:51 - 1024,16384,4,30,20,7.694393019002746,0.09554092900361866"
   ]
  }
 ],
 "metadata": {
  "kernelspec": {
   "display_name": "Python 3 (ipykernel)",
   "language": "python",
   "name": "python3"
  },
  "language_info": {
   "codemirror_mode": {
    "name": "ipython",
    "version": 3
   },
   "file_extension": ".py",
   "mimetype": "text/x-python",
   "name": "python",
   "nbconvert_exporter": "python",
   "pygments_lexer": "ipython3",
   "version": "3.10.6"
  },
  "orig_nbformat": 4
 },
 "nbformat": 4,
 "nbformat_minor": 2
}
