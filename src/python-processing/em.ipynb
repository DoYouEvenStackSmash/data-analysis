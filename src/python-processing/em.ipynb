{
 "cells": [
  {
   "cell_type": "code",
   "execution_count": 1,
   "metadata": {},
   "outputs": [],
   "source": [
    "from likelihood_scratch import *"
   ]
  },
  {
   "cell_type": "code",
   "execution_count": 1,
   "metadata": {},
   "outputs": [],
   "source": [
    "import numpy as np\n"
   ]
  },
  {
   "cell_type": "code",
   "execution_count": 21,
   "metadata": {},
   "outputs": [],
   "source": [
    "a = np.load(\"/home/aroot/stuff/cryoem/Ensemble-reweighting-using-Cryo-EM-particles/processed_images/images_experimental.npy\")\n",
    "avg = np.mean(a)\n"
   ]
  },
  {
   "cell_type": "code",
   "execution_count": 22,
   "metadata": {},
   "outputs": [
    {
     "data": {
      "text/plain": [
       "6.830259227715423e-05"
      ]
     },
     "execution_count": 22,
     "metadata": {},
     "output_type": "execute_result"
    }
   ],
   "source": [
    "avg"
   ]
  },
  {
   "cell_type": "code",
   "execution_count": 23,
   "metadata": {},
   "outputs": [
    {
     "data": {
      "text/plain": [
       "152.29761596701275"
      ]
     },
     "execution_count": 23,
     "metadata": {},
     "output_type": "execute_result"
    }
   ],
   "source": [
    "total = np.sum(np.array([np.square(x - avg) for x in a]))\n",
    "total\n"
   ]
  },
  {
   "cell_type": "code",
   "execution_count": 24,
   "metadata": {},
   "outputs": [
    {
     "data": {
      "text/plain": [
       "0.07440039861602968"
      ]
     },
     "execution_count": 24,
     "metadata": {},
     "output_type": "execute_result"
    }
   ],
   "source": [
    "noise = np.divide(total, a.shape[0] - 1.0)\n",
    "noise"
   ]
  },
  {
   "cell_type": "code",
   "execution_count": 12,
   "metadata": {},
   "outputs": [],
   "source": [
    "total = np.divide(total, a.shape[0])"
   ]
  },
  {
   "cell_type": "code",
   "execution_count": 13,
   "metadata": {},
   "outputs": [
    {
     "data": {
      "text/plain": [
       "array([[-4.08178405e-06,  4.10250103e-05,  3.51972944e-06, ...,\n",
       "         2.87493707e-05,  3.43414546e-05,  7.04454914e-05],\n",
       "       [-5.98882147e-05,  7.14335969e-06,  3.60271628e-05, ...,\n",
       "         2.69680935e-05,  1.04538801e-04, -7.14660354e-05],\n",
       "       [ 4.77372326e-05,  4.23026103e-06,  3.83518413e-05, ...,\n",
       "        -9.49261395e-06, -3.18132679e-05,  5.38777506e-05],\n",
       "       ...,\n",
       "       [ 6.98715372e-05,  7.80698244e-05, -4.96938175e-05, ...,\n",
       "        -2.44640158e-05, -2.86792880e-05, -1.04107999e-04],\n",
       "       [-3.47192330e-05, -1.33836514e-05,  5.63525088e-05, ...,\n",
       "        -4.43169704e-05,  1.86856144e-05,  1.24207204e-05],\n",
       "       [-8.96735787e-05, -2.66879634e-05,  2.26679968e-05, ...,\n",
       "        -5.13206075e-05,  8.77405895e-05, -5.62979213e-05]])"
      ]
     },
     "execution_count": 13,
     "metadata": {},
     "output_type": "execute_result"
    }
   ],
   "source": [
    "total"
   ]
  },
  {
   "cell_type": "code",
   "execution_count": 14,
   "metadata": {},
   "outputs": [],
   "source": [
    "np.save(\"mean.npy\", total)"
   ]
  },
  {
   "cell_type": "code",
   "execution_count": 15,
   "metadata": {},
   "outputs": [],
   "source": [
    "total = np.zeros((128,128))\n",
    "# for i,val in enumerate(a):"
   ]
  },
  {
   "cell_type": "code",
   "execution_count": 18,
   "metadata": {},
   "outputs": [],
   "source": [
    "mean = np.load(\"mean.npy\")\n",
    "for i,val in enumerate(a):\n",
    "  total = total + np.square(val - mean)\n",
    "sigma_square = total / (a.shape[0] - 1.0)"
   ]
  },
  {
   "cell_type": "code",
   "execution_count": 17,
   "metadata": {},
   "outputs": [
    {
     "data": {
      "text/plain": [
       "array([[1],\n",
       "       [4]])"
      ]
     },
     "execution_count": 17,
     "metadata": {},
     "output_type": "execute_result"
    }
   ],
   "source": [
    "arr = np.array([[1], [2]])\n",
    "np.square(arr)"
   ]
  },
  {
   "cell_type": "code",
   "execution_count": 19,
   "metadata": {},
   "outputs": [],
   "source": [
    "np.save(\"sigma_square.npy\", sigma_square)"
   ]
  },
  {
   "cell_type": "code",
   "execution_count": 20,
   "metadata": {},
   "outputs": [
    {
     "data": {
      "text/plain": [
       "array([[4.23557201e-06, 4.54685616e-06, 4.33508338e-06, ...,\n",
       "        4.65139052e-06, 4.38663112e-06, 4.58068387e-06],\n",
       "       [4.48444407e-06, 4.23190016e-06, 4.33047635e-06, ...,\n",
       "        4.54909470e-06, 4.27151061e-06, 4.42317536e-06],\n",
       "       [4.20346276e-06, 4.50724336e-06, 4.34229671e-06, ...,\n",
       "        4.31272149e-06, 4.19981895e-06, 4.43499047e-06],\n",
       "       ...,\n",
       "       [4.36876096e-06, 4.48609724e-06, 4.39227755e-06, ...,\n",
       "        4.01075882e-06, 4.26154718e-06, 4.14930082e-06],\n",
       "       [4.27435197e-06, 4.21972890e-06, 4.19809969e-06, ...,\n",
       "        4.36550781e-06, 4.30542237e-06, 4.41927886e-06],\n",
       "       [4.29914618e-06, 4.44823134e-06, 4.38377063e-06, ...,\n",
       "        4.30844803e-06, 4.44837335e-06, 4.06402130e-06]])"
      ]
     },
     "execution_count": 20,
     "metadata": {},
     "output_type": "execute_result"
    }
   ],
   "source": [
    "sigma_square"
   ]
  },
  {
   "cell_type": "code",
   "execution_count": null,
   "metadata": {},
   "outputs": [],
   "source": []
  }
 ],
 "metadata": {
  "kernelspec": {
   "display_name": "Python 3 (ipykernel)",
   "language": "python",
   "name": "python3"
  },
  "language_info": {
   "codemirror_mode": {
    "name": "ipython",
    "version": 3
   },
   "file_extension": ".py",
   "mimetype": "text/x-python",
   "name": "python",
   "nbconvert_exporter": "python",
   "pygments_lexer": "ipython3",
   "version": "3.10.6"
  },
  "orig_nbformat": 4
 },
 "nbformat": 4,
 "nbformat_minor": 2
}
