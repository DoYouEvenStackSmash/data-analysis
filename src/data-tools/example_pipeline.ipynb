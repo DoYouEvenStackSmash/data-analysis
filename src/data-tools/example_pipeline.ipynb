{
 "cells": [
  {
   "cell_type": "code",
   "execution_count": null,
   "metadata": {},
   "outputs": [],
   "source": [
    "!rm *.fbs *.npy *.json *.bin"
   ]
  },
  {
   "cell_type": "markdown",
   "metadata": {},
   "source": []
  },
  {
   "cell_type": "code",
   "execution_count": null,
   "metadata": {},
   "outputs": [],
   "source": [
    "# Generate 2 structure flatbuffers\n",
    "!./converters/StructureGenerator.py -f ./res/posStruc.npy --num_structs 1 --num_orientations 1\n",
    "!flatc -t converters/schemas/Structure.fbs -- struct_0.fbs --raw-binary --strict-json"
   ]
  },
  {
   "cell_type": "code",
   "execution_count": null,
   "metadata": {},
   "outputs": [],
   "source": [
    "# generate a parameter config (of interest is defocus [0.5,4,N] where N is number of steps)\n",
    "# output file to demo_params.fbs\n",
    "!./converters/ParameterGenerator.py -a [0.1] \\\n",
    " -d [0.5,4,25] \\\n",
    " -bf [1.0] \\\n",
    " -id [7.0,8.0,9] \\\n",
    " -np [128] \\\n",
    " -pw [0.3] \\\n",
    " -s [1.0] \\\n",
    " -ew [0.019866] \\\n",
    " -snr [1.0] \\\n",
    " -ep [25.0,26.0,27] \\\n",
    " -seed [28.0,29.0,30] \\\n",
    " -st [31.0,32.0,33] \\\n",
    " -c [34.0,35.0,36] \\\n",
    " -o demo_params.fbs\n",
    "\n",
    "!flatc -t converters/schemas/ParamModel.fbs -- demo_params.fbs --raw-binary --strict-json"
   ]
  },
  {
   "cell_type": "code",
   "execution_count": null,
   "metadata": {},
   "outputs": [],
   "source": [
    "# generate images from struct_0 and output to images_0\n",
    "!./DataGenerator.py images -p demo_params.fbs -s struct_0.fbs -o images_0.fbs\n",
    "!flatc -t converters/schemas/DataSet.fbs -- images_0.fbs --raw-binary --strict-json\n",
    "# generate images from struct_1 and output to images_1\n",
    "# !./DataGenerator.py images -p demo_params.fbs -s struct_1.fbs -o images_1.fbs"
   ]
  },
  {
   "cell_type": "code",
   "execution_count": null,
   "metadata": {},
   "outputs": [],
   "source": []
  },
  {
   "cell_type": "code",
   "execution_count": null,
   "metadata": {},
   "outputs": [],
   "source": [
    "# generate ctfs using the demo parameters\n",
    "!./DataGenerator.py ctfs -p demo_params.fbs"
   ]
  },
  {
   "cell_type": "code",
   "execution_count": null,
   "metadata": {},
   "outputs": [],
   "source": [
    "# synthesize images_0 using ctfs and output all generated permutations with leading tag STRUCT0\n",
    "!./DataGenerator.py synth -i images_0.fbs -c ctfs.fbs -o STRUCT0\n",
    "\n",
    "# from res.inspector import *"
   ]
  },
  {
   "cell_type": "code",
   "execution_count": null,
   "metadata": {},
   "outputs": [],
   "source": [
    "# convert any dataset flatbuffer to numpy array of complex values\n",
    "from res.inspector import *\n",
    "# filename structure := TAG_synth_dataset_ID.fbs\n",
    "serialize_fbs_dataset(\"STRUCT0_synth_dataset_0.fbs\")\n",
    "serialize_fbs_dataset(\"images_0.fbs\")"
   ]
  },
  {
   "cell_type": "code",
   "execution_count": null,
   "metadata": {},
   "outputs": [],
   "source": [
    "# peek at the files\n",
    "f =[\"serialized_STRUCT0_synth_dataset_0.npy\", \"serialized_images_0.npy\"]\n",
    "ID = 1\n",
    "import matplotlib.pyplot as plt\n",
    "serialized_synth_imgs = np.load(f[ID])\n",
    "serialized_imgs = np.load(f[ID])\n",
    "r,c = 5,5\n",
    "fig, axes = plt.subplots(r, c)\n",
    "for i in range(r):\n",
    "    for j in range(c):\n",
    "      axes[i,j].imshow(np.real(serialized_synth_imgs[i * r + j]))\n",
    "axes[r-1,c-1].imshow(np.real(serialized_imgs[0]), cmap=\"gray\")\n",
    "\n",
    "plt.show()"
   ]
  },
  {
   "cell_type": "code",
   "execution_count": null,
   "metadata": {},
   "outputs": [],
   "source": [
    "ctf_paramSet_buf = ParametersT.InitFromObj(\n",
    "    DataSet.GetRootAsDataSet(dl.load_flatbuffer(\"ctfs.fbs\"), 0).Params()\n",
    ")\n",
    "serialized_ctfs = np.load(\"serialized_STRUCT0_synth_dataset_0.npy\")\n",
    "\n",
    "row = 5\n",
    "col = 5\n",
    "f = 0\n",
    "fig, axes = plt.subplots(row, col)\n",
    "for i in range(row):\n",
    "    for j in range(col):\n",
    "        # print())\n",
    "        axes[i, j].imshow(np.real(np.fft.fftshift(serialized_ctfs[(i + f) * row + j])))\n",
    "        # axes[i,j].imshow(get_phase(np.fft.fftshift(b[(i+f)*row+j]),128),cmap=\"Greys\")\n",
    "        axes[i, j].set_title(f\"{ctf_paramSet_buf.defocus[(i+f)*row+j]}\", fontsize=6)"
   ]
  }
 ],
 "metadata": {
  "kernelspec": {
   "display_name": "Python 3 (ipykernel)",
   "language": "python",
   "name": "python3"
  },
  "language_info": {
   "codemirror_mode": {
    "name": "ipython",
    "version": 3
   },
   "file_extension": ".py",
   "mimetype": "text/x-python",
   "name": "python",
   "nbconvert_exporter": "python",
   "pygments_lexer": "ipython3",
   "version": "3.10.12"
  }
 },
 "nbformat": 4,
 "nbformat_minor": 2
}
