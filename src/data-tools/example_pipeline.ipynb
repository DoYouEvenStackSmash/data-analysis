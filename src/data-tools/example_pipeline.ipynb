{
 "cells": [
  {
   "cell_type": "code",
   "execution_count": null,
   "metadata": {},
   "outputs": [],
   "source": [
    "!rm *.fbs *.npy *.json *.bin"
   ]
  },
  {
   "cell_type": "code",
   "execution_count": 38,
   "metadata": {},
   "outputs": [
    {
     "name": "stdout",
     "output_type": "stream",
     "text": [
      "Namespace(filename='./res/posStruc.npy', num_structs=1, num_orientations=1, func=<function create_structure_buf_from_args at 0x7f89b7e25bd0>)\n",
      "1\n",
      "(10, 10, 3)\n"
     ]
    }
   ],
   "source": [
    "# Generate 2 structure flatbuffers\n",
    "!./converters/StructureGenerator.py -f ./res/posStruc.npy --num_structs 1 --num_orientations 1\n",
    "!flatc -t converters/schemas/Structure.fbs -- struct_0.fbs --raw-binary --strict-json"
   ]
  },
  {
   "cell_type": "code",
   "execution_count": 50,
   "metadata": {},
   "outputs": [
    {
     "name": "stdout",
     "output_type": "stream",
     "text": [
      "[0.1]\n",
      "[0.0, 4.0, 1.0]\n",
      "[1.0]\n",
      "[7.0, 8.0, 9.0]\n",
      "[128.0]\n",
      "[0.3]\n",
      "[1.0]\n",
      "[0.019866]\n",
      "[1.0]\n",
      "[25.0, 26.0, 2.0]\n",
      "[28.0, 29.0, 2.0]\n",
      "[31.0, 32.0, 2.0]\n",
      "[34.0, 35.0, 2.0]\n",
      "custom_params.fbs\n"
     ]
    }
   ],
   "source": [
    "# generate a parameter config (of interest is defocus [0.5,4,N] where N is number of steps)\n",
    "# output file to demo_params.fbs\n",
    "!./converters/ParameterGenerator.py -a [0.1] \\\n",
    " -d [0,4,300] \\\n",
    " -bf [1.0] \\\n",
    " -id [7.0,8.0,9] \\\n",
    " -np [128] \\\n",
    " -pw [0.3] \\\n",
    " -s [1.0] \\\n",
    " -ew [0.019866] \\\n",
    " -snr [1.0] \\\n",
    " -ep [25.0,26.0,2] \\\n",
    " -seed [28.0,29.0,2] \\\n",
    " -st [31.0,32.0,2] \\\n",
    " -c [34.0,35.0,2] \\\n",
    " -o demo_params.fbs\n",
    "\n",
    "!flatc -t converters/schemas/ParamModel.fbs -- demo_params.fbs --raw-binary --strict-json"
   ]
  },
  {
   "cell_type": "code",
   "execution_count": 40,
   "metadata": {},
   "outputs": [
    {
     "name": "stdout",
     "output_type": "stream",
     "text": [
      "10\n",
      "Generating images for batch:   0%|                        | 0/1 [00:00<?, ?it/s]tensor([[[ 5.3060, -3.9180, -5.0120],\n",
      "         [ 3.5360, -3.5380, -1.6420],\n",
      "         [ 4.3460, -1.3880,  1.4480],\n",
      "         [ 3.4160,  2.0920,  0.0480],\n",
      "         [ 0.7460,  3.2220,  2.5880],\n",
      "         [-0.7040,  5.4320, -0.3120],\n",
      "         [-0.8840,  2.1420, -2.3120],\n",
      "         [-3.9540,  1.3820, -0.1220],\n",
      "         [-4.4440, -1.9380,  1.6780],\n",
      "         [-7.3640, -3.4880,  3.6380]],\n",
      "\n",
      "        [[-1.2195, -3.5524, -7.3836],\n",
      "         [ 0.7642, -3.1673, -4.1354],\n",
      "         [ 3.5601, -0.7236, -3.1166],\n",
      "         [ 1.4671,  2.5056, -2.7599],\n",
      "         [ 2.1999,  3.4617,  0.9015],\n",
      "         [-1.2849,  5.2646,  0.8558],\n",
      "         [-2.6910,  1.8479, -0.2421],\n",
      "         [-2.2240,  0.8589,  3.4460],\n",
      "         [-0.5060, -2.3639,  4.5251],\n",
      "         [-0.0659, -4.1316,  7.9092]]], dtype=torch.float64)\n",
      "Generating images for batch: 100%|███████████████| 1/1 [00:00<00:00, 196.97it/s]\n"
     ]
    }
   ],
   "source": [
    "# generate images from struct_0 and output to images_0\n",
    "!./DataGenerator.py images -p demo_params.fbs -s struct_0.fbs -o images_0.fbs\n",
    "!flatc -t converters/schemas/DataSet.fbs -- images_0.fbs --raw-binary --strict-json\n",
    "# !./DataGenerator.py images -p demo_params.fbs -s struct_1.fbs -o images_1.fbs"
   ]
  },
  {
   "cell_type": "code",
   "execution_count": 51,
   "metadata": {},
   "outputs": [
    {
     "name": "stdout",
     "output_type": "stream",
     "text": [
      "ctfs_wrapper\n"
     ]
    }
   ],
   "source": [
    "# generate ctfs using the demo parameters\n",
    "!./DataGenerator.py ctfs -p demo_params.fbs"
   ]
  },
  {
   "cell_type": "code",
   "execution_count": 52,
   "metadata": {},
   "outputs": [],
   "source": [
    "# synthesize images_0 using ctfs and output all generated permutations with leading tag STRUCT0\n",
    "!./DataGenerator.py synth -i images_0.fbs -c ctfs.fbs -o STRUCT0\n",
    "# !./DataGenerator.py synth -i images_1.fbs -c ctfs.fbs -o STRUCT1\n",
    "# from res.inspector import *"
   ]
  },
  {
   "cell_type": "code",
   "execution_count": 55,
   "metadata": {},
   "outputs": [],
   "source": [
    "# convert any dataset flatbuffer to numpy array of complex values\n",
    "from res.inspector import *\n",
    "\n",
    "# from DataGenerator import *\n",
    "# filename structure := TAG_synth_dataset_ID.fbs\n",
    "serialize_fbs_dataset(\"STRUCT1_synth_dataset_0.fbs\")\n",
    "# serialize_fbs_dataset(\"images_0.fbs\")\n",
    "\n",
    "serialize_fbs_dataset(\"STRUCT1_synth_dataset_1.fbs\")\n",
    "# serialize_fbs_dataset(\"images_1.fbs\")"
   ]
  },
  {
   "cell_type": "code",
   "execution_count": 56,
   "metadata": {},
   "outputs": [],
   "source": [
    "from scipy.io import savemat\n",
    "\n",
    "mat_file_path = \"oriented_structure.mat\"\n",
    "d1 = np.load(\"serialized_STRUCT0_synth_dataset_0.npy\")\n",
    "d2 = np.load(\"serialized_STRUCT0_synth_dataset_1.npy\")\n",
    "# d3 = np.load(\"\")\n",
    "savemat(mat_file_path, {\"data1\": d1, \"data2\": d2})"
   ]
  },
  {
   "cell_type": "code",
   "execution_count": null,
   "metadata": {},
   "outputs": [],
   "source": [
    "# peek at the files\n",
    "f = [\"serialized_STRUCT0_synth_dataset_0.npy\", \"serialized_files.npy\", \"images\"]\n",
    "ID = 1\n",
    "import matplotlib.pyplot as plt\n",
    "\n",
    "serialized_synth_imgs = np.load(f[ID])\n",
    "serialized_imgs = np.load(f[ID])\n",
    "r, c = 5, 5\n",
    "fig, axes = plt.subplots(r, c)\n",
    "for i in range(r):\n",
    "    for j in range(c):\n",
    "        axes[i, j].imshow(np.real(serialized_synth_imgs[i * r + j]))\n",
    "axes[r - 1, c - 1].imshow(np.real(serialized_imgs[0]), cmap=\"gray\")\n",
    "\n",
    "plt.show()"
   ]
  },
  {
   "cell_type": "code",
   "execution_count": 48,
   "metadata": {},
   "outputs": [
    {
     "ename": "FileNotFoundError",
     "evalue": "[Errno 2] No such file or directory: 'serialized_images_0.npy'",
     "output_type": "error",
     "traceback": [
      "\u001b[0;31m---------------------------------------------------------------------------\u001b[0m",
      "\u001b[0;31mFileNotFoundError\u001b[0m                         Traceback (most recent call last)",
      "\u001b[1;32m/home/aroot/stuff/data-analysis/src/data-tools/example_pipeline.ipynb Cell 10\u001b[0m line \u001b[0;36m1\n\u001b[0;32m----> <a href='vscode-notebook-cell://wsl%2Bubuntu/home/aroot/stuff/data-analysis/src/data-tools/example_pipeline.ipynb#X14sdnNjb2RlLXJlbW90ZQ%3D%3D?line=0'>1</a>\u001b[0m img_0 \u001b[39m=\u001b[39m np\u001b[39m.\u001b[39;49mload(\u001b[39m\"\u001b[39;49m\u001b[39mserialized_images_0.npy\u001b[39;49m\u001b[39m\"\u001b[39;49m)\n\u001b[1;32m      <a href='vscode-notebook-cell://wsl%2Bubuntu/home/aroot/stuff/data-analysis/src/data-tools/example_pipeline.ipynb#X14sdnNjb2RlLXJlbW90ZQ%3D%3D?line=1'>2</a>\u001b[0m img_1 \u001b[39m=\u001b[39m np\u001b[39m.\u001b[39mload(\u001b[39m\"\u001b[39m\u001b[39mserialized_images_0.npy\u001b[39m\u001b[39m\"\u001b[39m)\n\u001b[1;32m      <a href='vscode-notebook-cell://wsl%2Bubuntu/home/aroot/stuff/data-analysis/src/data-tools/example_pipeline.ipynb#X14sdnNjb2RlLXJlbW90ZQ%3D%3D?line=2'>3</a>\u001b[0m r,c \u001b[39m=\u001b[39m \u001b[39m5\u001b[39m,\u001b[39m5\u001b[39m\n",
      "File \u001b[0;32m~/.local/lib/python3.10/site-packages/numpy/lib/npyio.py:405\u001b[0m, in \u001b[0;36mload\u001b[0;34m(file, mmap_mode, allow_pickle, fix_imports, encoding, max_header_size)\u001b[0m\n\u001b[1;32m    403\u001b[0m     own_fid \u001b[39m=\u001b[39m \u001b[39mFalse\u001b[39;00m\n\u001b[1;32m    404\u001b[0m \u001b[39melse\u001b[39;00m:\n\u001b[0;32m--> 405\u001b[0m     fid \u001b[39m=\u001b[39m stack\u001b[39m.\u001b[39menter_context(\u001b[39mopen\u001b[39;49m(os_fspath(file), \u001b[39m\"\u001b[39;49m\u001b[39mrb\u001b[39;49m\u001b[39m\"\u001b[39;49m))\n\u001b[1;32m    406\u001b[0m     own_fid \u001b[39m=\u001b[39m \u001b[39mTrue\u001b[39;00m\n\u001b[1;32m    408\u001b[0m \u001b[39m# Code to distinguish from NumPy binary files and pickles.\u001b[39;00m\n",
      "\u001b[0;31mFileNotFoundError\u001b[0m: [Errno 2] No such file or directory: 'serialized_images_0.npy'"
     ]
    }
   ],
   "source": [
    "img_0 = np.load(\"serialized_images_0.npy\")\n",
    "img_1 = np.load(\"serialized_images_0.npy\")\n",
    "r, c = 5, 5\n",
    "fig, axes = plt.subplots(2, 2)\n",
    "axes[0, 0].imshow(np.real(img_0[0]))\n",
    "axes[0, 1].imshow(np.real(img_1[1]))\n",
    "\n",
    "plt.show()"
   ]
  },
  {
   "cell_type": "code",
   "execution_count": null,
   "metadata": {},
   "outputs": [],
   "source": [
    "ctf_paramSet_buf = ParametersT.InitFromObj(\n",
    "    DataSet.GetRootAsDataSet(dl.load_flatbuffer(\"ctfs.fbs\"), 0).Params()\n",
    ")\n",
    "serialized_ctfs = np.load(\"serialized_STRUCT0_synth_dataset_0.npy\")\n",
    "\n",
    "row = 5\n",
    "col = 5\n",
    "f = 0\n",
    "fig, axes = plt.subplots(row, col)\n",
    "for i in range(row):\n",
    "    for j in range(col):\n",
    "        # print())\n",
    "        axes[i, j].imshow(np.real(np.fft.fftshift(serialized_ctfs[(i + f) * row + j])))\n",
    "        # axes[i,j].imshow(get_phase(np.fft.fftshift(b[(i+f)*row+j]),128),cmap=\"Greys\")\n",
    "        axes[i, j].set_title(f\"{ctf_paramSet_buf.defocus[(i+f)*row+j]}\", fontsize=6)"
   ]
  }
 ],
 "metadata": {
  "kernelspec": {
   "display_name": "Python 3 (ipykernel)",
   "language": "python",
   "name": "python3"
  },
  "language_info": {
   "codemirror_mode": {
    "name": "ipython",
    "version": 3
   },
   "file_extension": ".py",
   "mimetype": "text/x-python",
   "name": "python",
   "nbconvert_exporter": "python",
   "pygments_lexer": "ipython3",
   "version": "3.10.12"
  }
 },
 "nbformat": 4,
 "nbformat_minor": 2
}
