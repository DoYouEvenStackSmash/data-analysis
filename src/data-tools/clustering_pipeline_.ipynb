{
 "cells": [
  {
   "cell_type": "code",
   "execution_count": null,
   "metadata": {},
   "outputs": [],
   "source": [
    "!./converters/StructureGenerator.py -f ./res/posStruc.npy --num_structs 10 --num_orientations 20\n",
    "# !flatc -t converters/schemas/Structure.fbs -- struct_0.fbs --raw-binary --strict-json\n",
    "\n",
    "# !./DataGenerator.py images -p demo_params.fbs -s struct_0.fbs struct_1.fbs struct_2.fbs struct_3.fbs struct_4.fbs -o images_01234.fbs\n",
    "# !flatc -t converters/schemas/DataSet.fbs -- images_01234.fbs --raw-binary --strict-json\n",
    "# generate images from struct_1 and output to images_1\n",
    "# !./DataGenerator.py images -p demo_params.fbs -s struct_1.fbs -o images_1.fbs"
   ]
  },
  {
   "cell_type": "code",
   "execution_count": null,
   "metadata": {},
   "outputs": [],
   "source": [
    "!./converters/ParameterGenerator.py -a [0.1] \\\n",
    " -d [0.5,4,10] \\\n",
    " -bf [1.0] \\\n",
    " -id [7.0,8.0,9] \\\n",
    " -np [128] \\\n",
    " -pw [0.3] \\\n",
    " -s [1.0] \\\n",
    " -ew [0.019866] \\\n",
    " -snr [1.0] \\\n",
    " -ep [25.0,26.0,27] \\\n",
    " -seed [28.0,29.0,30] \\\n",
    " -st [31.0,32.0,33] \\\n",
    " -c [34.0,35.0,36] \\\n",
    " -o cluster2_demo_params.fbs"
   ]
  },
  {
   "cell_type": "code",
   "execution_count": null,
   "metadata": {},
   "outputs": [],
   "source": [
    "# !./DataGenerator.py images -p cluster_demo_params.fbs -s struct_0.fbs -o clustering_images_0.fbs\n",
    "!./DataGenerator.py ctfs -p cluster2_demo_params.fbs -o ctfs2.fbs\n",
    "# struct_1.fbs struct_2.fbs struct_3.fbs struct_4.fbs struct_5.fbs struct_6.fbs struct_7.fbs struct_8.fbs struct_9.fbs  -o clustering_images_0.fbs"
   ]
  },
  {
   "cell_type": "code",
   "execution_count": null,
   "metadata": {},
   "outputs": [],
   "source": [
    "!./DataGenerator.py synth -i clustering_images_0.fbs -c ctfs2.fbs -o STRUCT1"
   ]
  },
  {
   "cell_type": "code",
   "execution_count": null,
   "metadata": {},
   "outputs": [],
   "source": [
    "from res.inspector import *\n",
    "\n",
    "serialize_fbs_datasets(\n",
    "    [\n",
    "        \"STRUCT0_synth_dataset_0.fbs\",\n",
    "        \"STRUCT0_synth_dataset_1.fbs\",\n",
    "        \"STRUCT0_synth_dataset_10.fbs\",\n",
    "        \"STRUCT0_synth_dataset_11.fbs\",\n",
    "        \"STRUCT0_synth_dataset_12.fbs\",\n",
    "        \"STRUCT0_synth_dataset_13.fbs\",\n",
    "        \"STRUCT0_synth_dataset_14.fbs\",\n",
    "        \"STRUCT0_synth_dataset_15.fbs\",\n",
    "        \"STRUCT0_synth_dataset_16.fbs\",\n",
    "        \"STRUCT0_synth_dataset_17.fbs\",\n",
    "        \"STRUCT0_synth_dataset_18.fbs\",\n",
    "        \"STRUCT0_synth_dataset_19.fbs\",\n",
    "        \"STRUCT0_synth_dataset_2.fbs\",\n",
    "        \"STRUCT0_synth_dataset_20.fbs\",\n",
    "        \"STRUCT0_synth_dataset_21.fbs\",\n",
    "        \"STRUCT0_synth_dataset_22.fbs\",\n",
    "        \"STRUCT0_synth_dataset_23.fbs\",\n",
    "        \"STRUCT0_synth_dataset_24.fbs\",\n",
    "        \"STRUCT0_synth_dataset_25.fbs\",\n",
    "        \"STRUCT0_synth_dataset_26.fbs\",\n",
    "        \"STRUCT0_synth_dataset_27.fbs\",\n",
    "        \"STRUCT0_synth_dataset_28.fbs\",\n",
    "        \"STRUCT0_synth_dataset_29.fbs\",\n",
    "        \"STRUCT0_synth_dataset_3.fbs\",\n",
    "        \"STRUCT0_synth_dataset_30.fbs\",\n",
    "        \"STRUCT0_synth_dataset_31.fbs\",\n",
    "        \"STRUCT0_synth_dataset_32.fbs\",\n",
    "        \"STRUCT0_synth_dataset_33.fbs\",\n",
    "        \"STRUCT0_synth_dataset_34.fbs\",\n",
    "        \"STRUCT0_synth_dataset_35.fbs\",\n",
    "        \"STRUCT0_synth_dataset_36.fbs\",\n",
    "        \"STRUCT0_synth_dataset_37.fbs\",\n",
    "        \"STRUCT0_synth_dataset_38.fbs\",\n",
    "        \"STRUCT0_synth_dataset_39.fbs\",\n",
    "        \"STRUCT0_synth_dataset_4.fbs\",\n",
    "        \"STRUCT0_synth_dataset_5.fbs\",\n",
    "        \"STRUCT0_synth_dataset_6.fbs\",\n",
    "        \"STRUCT0_synth_dataset_7.fbs\",\n",
    "        \"STRUCT0_synth_dataset_8.fbs\",\n",
    "        \"STRUCT0_synth_dataset_9.fbs\",\n",
    "    ]\n",
    ")\n",
    "serialize_fbs_dataset(\"clustering_images_0.fbs\")"
   ]
  },
  {
   "cell_type": "code",
   "execution_count": null,
   "metadata": {},
   "outputs": [],
   "source": [
    "serialize_fbs_datasets(\n",
    "    [\n",
    "        \"STRUCT1_synth_dataset_0.fbs\",\n",
    "        \"STRUCT1_synth_dataset_1.fbs\",\n",
    "        \"STRUCT1_synth_dataset_10.fbs\",\n",
    "        \"STRUCT1_synth_dataset_11.fbs\",\n",
    "        \"STRUCT1_synth_dataset_12.fbs\",\n",
    "        \"STRUCT1_synth_dataset_13.fbs\",\n",
    "        \"STRUCT1_synth_dataset_14.fbs\",\n",
    "        \"STRUCT1_synth_dataset_15.fbs\",\n",
    "        \"STRUCT1_synth_dataset_16.fbs\",\n",
    "        \"STRUCT1_synth_dataset_17.fbs\",\n",
    "        \"STRUCT1_synth_dataset_18.fbs\",\n",
    "        \"STRUCT1_synth_dataset_19.fbs\",\n",
    "        \"STRUCT1_synth_dataset_2.fbs\",\n",
    "        \"STRUCT1_synth_dataset_20.fbs\",\n",
    "        \"STRUCT1_synth_dataset_3.fbs\",\n",
    "        \"STRUCT1_synth_dataset_4.fbs\",\n",
    "        \"STRUCT1_synth_dataset_5.fbs\",\n",
    "        \"STRUCT1_synth_dataset_6.fbs\",\n",
    "        \"STRUCT1_synth_dataset_7.fbs\",\n",
    "        \"STRUCT1_synth_dataset_8.fbs\",\n",
    "        \"STRUCT1_synth_dataset_9.fbs\",\n",
    "    ]\n",
    ")"
   ]
  },
  {
   "cell_type": "code",
   "execution_count": null,
   "metadata": {},
   "outputs": [],
   "source": [
    "serialize_fbs_dataset(\"ctfs2.fbs\")"
   ]
  }
 ],
 "metadata": {
  "kernelspec": {
   "display_name": "Python 3 (ipykernel)",
   "language": "python",
   "name": "python3"
  },
  "language_info": {
   "codemirror_mode": {
    "name": "ipython",
    "version": 3
   },
   "file_extension": ".py",
   "mimetype": "text/x-python",
   "name": "python",
   "nbconvert_exporter": "python",
   "pygments_lexer": "ipython3",
   "version": "3.10.12"
  }
 },
 "nbformat": 4,
 "nbformat_minor": 2
}
