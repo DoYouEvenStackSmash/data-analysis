{
 "cells": [
  {
   "cell_type": "code",
   "execution_count": 1,
   "metadata": {},
   "outputs": [],
   "source": [
    "import flatbuffers\n",
    "import sys\n",
    "import argparse\n",
    "import torch\n",
    "\n",
    "sys.path.append(\"./converters\")\n",
    "sys.path.append(\"./generators\")\n",
    "sys.path.append(\"../\")\n",
    "from DataModel.Atom import Atom, AtomT\n",
    "from DataModel.Structure import Structure, StructureT\n",
    "from DataModel.Quaternion import Quaternion, QuaternionT\n",
    "from DataModel.P import P, PT\n",
    "from DataModel.AtomicModel import *\n",
    "from DataModel.Parameters import Parameters, ParametersT\n",
    "\n",
    "from DataModel.DataClass import DataClass\n",
    "from DataModel.Datum import Datum, DatumT\n",
    "from DataModel.Matrix import Matrix, MatrixT\n",
    "from DataModel.Domain import Domain\n",
    "from DataModel.DataType import DataType\n",
    "from DataModel.DataSet import DataSet, DataSetT\n",
    "from filegroup import *\n",
    "from transform_generator import *\n",
    "from ctf_generator import *\n",
    "from image_generator import *\n",
    "from dataloader import Dataloader as dl\n",
    "import matplotlib.pyplot as plt\n",
    "\n",
    "from datum_helpers import *\n"
   ]
  },
  {
   "cell_type": "code",
   "execution_count": 2,
   "metadata": {},
   "outputs": [],
   "source": [
    "img_buf = dl.load_flatbuffer(\"images_0.fbs\")\n",
    "img_ds = DataSet.GetRootAsDataSet(img_buf,0)\n",
    "ctf_buf = dl.load_flatbuffer(\"ctfs.fbs\")\n",
    "ctf_ds = DataSet.GetRootAsDataSet(ctf_buf,0)\n",
    "synth_ds = DataSet.GetRootAsDataSet(dl.load_flatbuffer(\"STRUCT0_synth_dataset_0.fbs\"),0)"
   ]
  },
  {
   "cell_type": "code",
   "execution_count": 3,
   "metadata": {},
   "outputs": [
    {
     "name": "stdout",
     "output_type": "stream",
     "text": [
      "tensor([[[True, True, True,  ..., True, True, True],\n",
      "         [True, True, True,  ..., True, True, True],\n",
      "         [True, True, True,  ..., True, True, True],\n",
      "         ...,\n",
      "         [True, True, True,  ..., True, True, True],\n",
      "         [True, True, True,  ..., True, True, True],\n",
      "         [True, True, True,  ..., True, True, True]]])\n"
     ]
    }
   ],
   "source": [
    "cdarr = extract_datum(ctf_ds)\n",
    "cdarr = lift_datum_buf_to_datumT(cdarr)\n",
    "\n",
    "# cm1 = extract_matrices(cdarr[0])\n",
    "a = apply_d1m2_to_d2m1(cdarr[0],cdarr[1])\n",
    "print(a == cdarr[0].m1)"
   ]
  },
  {
   "cell_type": "code",
   "execution_count": 32,
   "metadata": {},
   "outputs": [],
   "source": [
    "def get_stats(buf_ds):\n",
    "  \"\"\"Get status of flatbuffer dataset\n",
    "\n",
    "  Args:\n",
    "      buf (_type_): _description_\n",
    "  \"\"\"\n",
    "  stats_dict = {\"num_elems\": 0, \"elem_types\": {\"m1\": None, \"m2\": None}}\n",
    "  \n",
    "  stats_dict[\"num_elems\"] = buf_ds.DataLength()\n",
    "  \n",
    "  check_type = lambda matrix: None if matrix == None else matrix.DataType()\n",
    "  get_type = lambda datum: [check_type(datum.M1()),check_type(datum.M2())]\n",
    "  stats_dict[\"elem_types\"][\"m1\"],stats_dict[\"elem_types\"][\"m2\"] = get_type(buf_ds.Data(0))\n",
    "  \n",
    "  \n",
    "  return stats_dict"
   ]
  },
  {
   "cell_type": "code",
   "execution_count": 36,
   "metadata": {},
   "outputs": [
    {
     "name": "stdout",
     "output_type": "stream",
     "text": [
      "tensor(True)\n"
     ]
    }
   ],
   "source": [
    "# get_stats(synth_ds)\n",
    "a = torch.tensor(1)\n",
    "\n",
    "print(a == torch.tensor(1))"
   ]
  }
 ],
 "metadata": {
  "kernelspec": {
   "display_name": "Python 3 (ipykernel)",
   "language": "python",
   "name": "python3"
  },
  "language_info": {
   "codemirror_mode": {
    "name": "ipython",
    "version": 3
   },
   "file_extension": ".py",
   "mimetype": "text/x-python",
   "name": "python",
   "nbconvert_exporter": "python",
   "pygments_lexer": "ipython3",
   "version": "3.10.12"
  }
 },
 "nbformat": 4,
 "nbformat_minor": 2
}
