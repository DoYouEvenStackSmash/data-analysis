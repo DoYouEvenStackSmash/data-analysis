{
 "cells": [
  {
   "cell_type": "code",
   "execution_count": 2,
   "metadata": {},
   "outputs": [],
   "source": [
    "import flatbuffers\n",
    "import sys\n",
    "import argparse\n",
    "import torch\n",
    "\n",
    "sys.path.append(\"./converters\")\n",
    "sys.path.append(\"./generators\")\n",
    "sys.path.append(\"../\")\n",
    "from DataModel.Atom import Atom, AtomT\n",
    "from DataModel.Structure import Structure, StructureT\n",
    "from DataModel.Quaternion import Quaternion, QuaternionT\n",
    "from DataModel.P import P, PT\n",
    "from DataModel.AtomicModel import *\n",
    "from DataModel.Parameters import Parameters, ParametersT\n",
    "\n",
    "from DataModel.DataClass import DataClass\n",
    "from DataModel.Datum import Datum, DatumT\n",
    "from DataModel.Matrix import Matrix, MatrixT\n",
    "from DataModel.Domain import Domain\n",
    "from DataModel.DataType import DataType\n",
    "from DataModel.DataSet import DataSet, DataSetT\n",
    "from filegroup import *\n",
    "from transform_generator import *\n",
    "from ctf_generator import *\n",
    "from image_generator import *\n",
    "from dataloader import Dataloader as dl\n",
    "import matplotlib.pyplot as plt"
   ]
  },
  {
   "cell_type": "code",
   "execution_count": 38,
   "metadata": {},
   "outputs": [
    {
     "name": "stdout",
     "output_type": "stream",
     "text": [
      "0\n",
      "(3, 1)\n",
      "torch.Size([3, 1])\n"
     ]
    }
   ],
   "source": [
    "quats = gen_quat_torch(0)\n",
    "print(len(quats))\n",
    "pt = np.array([0, 1, 2], dtype=float)\n",
    "pt = pt.reshape((3, 1))\n",
    "print(pt.shape)\n",
    "pt = torch.tensor(pt, dtype=torch.float64)\n",
    "print(pt.shape)\n",
    "qm = [quaternion_to_matrix(quat) for quat in quats]\n",
    "# print(len(qm))\n",
    "for i, q in enumerate(qm):\n",
    "    # print(q.shape)\n",
    "    res = torch.matmul(q, pt)\n",
    "    print(res)"
   ]
  },
  {
   "cell_type": "code",
   "execution_count": 41,
   "metadata": {},
   "outputs": [],
   "source": [
    "st = StructureT.InitFromObj(\n",
    "    Structure.GetRootAsStructure(dl.load_flatbuffer(\"struct_0.fbs\"), 0)\n",
    ")\n",
    "\n",
    "\n",
    "def add_orientations(so, num_orientations):\n",
    "    to_components = lambda q: {\"a\": q[0], \"b\": q[1], \"c\": q[2], \"d\": q[3]}\n",
    "    quat_tensors = gen_quat_torch(num_orientations)\n",
    "    quat_list = []\n",
    "    for idx, qa in enumerate(quat_tensors):\n",
    "        qt = QuaternionT()\n",
    "        for k, v in to_components(qa).items():\n",
    "            setattr(qt, k, v)\n",
    "        quat_list.append(qt)\n",
    "        # so = create_structureT_from_coords(numpy_array[i])\n",
    "    so.orientations = quat_list\n",
    "    return so\n",
    "\n",
    "\n",
    "st = add_orientations(st, 1)\n",
    "builder = flatbuffers.Builder(1024)\n",
    "serialized_buffer = StructureT.Pack(st, builder)\n",
    "builder.Finish(serialized_buffer)\n",
    "sb = builder.Output()\n",
    "f = open(\"oriented_struct_0.fbs\", \"wb\")\n",
    "f.write(sb)\n",
    "f.close()"
   ]
  }
 ],
 "metadata": {
  "kernelspec": {
   "display_name": "Python 3 (ipykernel)",
   "language": "python",
   "name": "python3"
  },
  "language_info": {
   "codemirror_mode": {
    "name": "ipython",
    "version": 3
   },
   "file_extension": ".py",
   "mimetype": "text/x-python",
   "name": "python",
   "nbconvert_exporter": "python",
   "pygments_lexer": "ipython3",
   "version": "3.10.12"
  }
 },
 "nbformat": 4,
 "nbformat_minor": 2
}
