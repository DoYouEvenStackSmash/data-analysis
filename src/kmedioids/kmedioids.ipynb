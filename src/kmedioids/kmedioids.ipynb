{
 "cells": [
  {
   "cell_type": "code",
   "execution_count": null,
   "metadata": {},
   "outputs": [],
   "source": [
    "import numpy as np\n",
    "from collections import deque\n",
    "\n",
    "class Datum:\n",
    "    def __init__(self, idx, v = 0., apdict = None):\n",
    "        self.idx = idx\n",
    "        self.v = v\n",
    "        self.apdict = apdict if apdict != None else {}\n",
    "\n",
    "def D(di, dj):\n",
    "    return np.sqrt(np.sum(np.array([np.power(i, 2) for i in (di - dj).flatten()])))"
   ]
  },
  {
   "cell_type": "code",
   "execution_count": 12,
   "metadata": {},
   "outputs": [],
   "source": [
    "# initialize input space\n",
    "M = np.random.randint(0, 100, (1000, 1, 2))\n",
    "n = M.shape[0]\n",
    "\n",
    "# initialize objects\n",
    "data = []\n",
    "for idx in range(n):\n",
    "  data.append(Datum(idx))\n",
    "# step 1-1: all pairs distances\n",
    "for idx in range(n):\n",
    "  for jdx in range(n):\n",
    "    # if idx == jdx:\n",
    "    #   continue\n",
    "    dist = D(M[idx], M[jdx])\n",
    "    data[idx].apdict[jdx] = dist\n",
    "# step 1-2: V values for objects j\n",
    "\n",
    "# precalculate denominators\n",
    "denominators = []\n",
    "for di in data:\n",
    "  isum = 0.\n",
    "  for i in di.apdict:\n",
    "    isum += di.apdict[i]\n",
    "  denominators.append(isum)\n",
    "\n",
    "# compute v values\n",
    "for j, dj in enumerate(data):\n",
    "  big_sum = 0.\n",
    "  for idx in dj.apdict:\n",
    "    denominator = denominators[idx]\n",
    "    numerator = dj.apdict[idx]\n",
    "    big_sum += np.divide(numerator, denominator)\n",
    "  data[j].v = big_sum\n",
    "# step 1-3: sort by v value and choose k medioids\n",
    "sortkey = lambda d: d.v\n",
    "sorted_data = sorted(data, key=sortkey)\n",
    "k = 4\n",
    "medioid_idx = set([i.idx for i in sorted_data[:k]])\n",
    "print(medioid_idx)"
   ]
  },
  {
   "cell_type": "code",
   "execution_count": 16,
   "metadata": {},
   "outputs": [],
   "source": [
    "# step 1-4: Obtain the initial cluster result by assigning each object to the nearest medoid.\n",
    "def assign_clusters(data, mlist):\n",
    "  \"\"\"\n",
    "  assign the data to clusters\n",
    "  \"\"\"\n",
    "  clusters = [[] for _ in mlist]\n",
    "  for idx in range(n):\n",
    "    di = data[idx]\n",
    "    min_dist = float('inf')\n",
    "    mindex = None\n",
    "    for i, midx in enumerate(mlist):\n",
    "      if midx == idx:\n",
    "        mindex = i\n",
    "        break\n",
    "      if di.apdict[midx] < min_dist:\n",
    "        min_dist = di.apdict[midx]\n",
    "        mindex = i\n",
    "    \n",
    "    clusters[mindex].append(idx)\n",
    "  return clusters\n",
    "\n",
    "# mlist = list(medioid_idx)\n",
    "# clusters = assign_clusters(data, mlist)"
   ]
  },
  {
   "cell_type": "code",
   "execution_count": 17,
   "metadata": {},
   "outputs": [],
   "source": [
    "# step 1-5\n",
    "def calculate_sum(data, clusters, mlist):\n",
    "  total_sum = 0.\n",
    "  for i, midx in enumerate(mlist):\n",
    "    cluster = clusters[i]\n",
    "    for idx in cluster:\n",
    "      total_sum += data[idx].apdict[midx]\n",
    "  return total_sum"
   ]
  },
  {
   "cell_type": "code",
   "execution_count": 19,
   "metadata": {},
   "outputs": [],
   "source": [
    "def update_medioids(data, clusters, mlist):\n",
    "  new_mlist = []\n",
    "  for i,midx in enumerate(mlist):\n",
    "    cluster = clusters[i]\n",
    "    min_dist = float('inf')\n",
    "    mindex = None\n",
    "    for idx in cluster:\n",
    "      cdist = 0.\n",
    "      for sidx in cluster:\n",
    "        cdist += data[idx].apdict[sidx]\n",
    "      if cdist < min_dist:\n",
    "        min_dist = cdist\n",
    "        mindex = idx\n",
    "    new_mlist.append(mindex)\n",
    "  \n",
    "  return new_mlist\n",
    "\n",
    "# mlist = update_medioids(data, clusters ,mlist)"
   ]
  },
  {
   "cell_type": "code",
   "execution_count": 22,
   "metadata": {},
   "outputs": [],
   "source": [
    "def kmedioids(M, data, k=5, max_iter=100):\n",
    "  sortkey = lambda d: d.v\n",
    "  sorted_data = sorted(data, key=sortkey)\n",
    "  k = 5\n",
    "  medioid_idx = set([i.idx for i in sorted_data[:k]])\n",
    "  mlist = list(medioid_idx)\n",
    "  n = M.shape[0]\n",
    "  total_sum = float('inf')\n",
    "  for _ in range(max_iter):\n",
    "    clusters = assign_clusters(data, mlist)\n",
    "    mlist = update_medioids(data, clusters ,mlist)\n",
    "    new_sum = calculate_sum(data, clusters, mlist)\n",
    "    if new_sum == total_sum:\n",
    "      break\n",
    "    total_sum = new_sum\n",
    "  return clusters, mlist\n",
    "    \n",
    "\n"
   ]
  },
  {
   "cell_type": "code",
   "execution_count": 23,
   "metadata": {},
   "outputs": [
    {
     "name": "stdout",
     "output_type": "stream",
     "text": [
      "(19, 1, 2)\n",
      "(21, 1, 2)\n",
      "(20, 1, 2)\n",
      "(16, 1, 2)\n"
     ]
    }
   ],
   "source": [
    "clusters, mlist = kmedioids(M, data, k, 20)\n",
    "medioids = np.array([M[idx] for idx in mlist])\n",
    "for i in range(k):\n",
    "  clusters[i] = np.stack([M[j] for j in clusters[i]])\n",
    "  print(clusters[i].shape)\n"
   ]
  },
  {
   "cell_type": "code",
   "execution_count": 25,
   "metadata": {},
   "outputs": [
    {
     "name": "stdout",
     "output_type": "stream",
     "text": [
      "(19, 2)\n",
      "(21, 2)\n",
      "(20, 2)\n",
      "(16, 2)\n"
     ]
    },
    {
     "ename": "AttributeError",
     "evalue": "'list' object has no attribute 'reshape'",
     "output_type": "error",
     "traceback": [
      "\u001b[0;31m---------------------------------------------------------------------------\u001b[0m",
      "\u001b[0;31mAttributeError\u001b[0m                            Traceback (most recent call last)",
      "Cell \u001b[0;32mIn[25], line 37\u001b[0m\n\u001b[1;32m     33\u001b[0m cy_coords \u001b[39m=\u001b[39m reshaped_centers[:, \u001b[39m1\u001b[39m]\n\u001b[1;32m     35\u001b[0m \u001b[39mfor\u001b[39;00m i,m \u001b[39min\u001b[39;00m \u001b[39menumerate\u001b[39m(clusters):\n\u001b[0;32m---> 37\u001b[0m   reshaped_data \u001b[39m=\u001b[39m m\u001b[39m.\u001b[39;49mreshape(\u001b[39m-\u001b[39m\u001b[39m1\u001b[39m, \u001b[39m2\u001b[39m)\n\u001b[1;32m     38\u001b[0m   \u001b[39mprint\u001b[39m(reshaped_data\u001b[39m.\u001b[39mshape)\n\u001b[1;32m     39\u001b[0m     \u001b[39m# Compute the convex hull using Graham Scan\u001b[39;00m\n",
      "\u001b[0;31mAttributeError\u001b[0m: 'list' object has no attribute 'reshape'"
     ]
    },
    {
     "data": {
      "image/png": "[encoded data removed]",
      "text/plain": [
       "<Figure size 640x480 with 1 Axes>"
      ]
     },
     "metadata": {},
     "output_type": "display_data"
    }
   ],
   "source": [
    "import matplotlib.pyplot as plt\n",
    "import matplotlib.colors as mcolors\n",
    "\n",
    "def graham_scan_convex_hull(points):\n",
    "    def cross_product(p, q, r):\n",
    "        return (q[0] - p[0]) * (r[1] - p[1]) - (r[0] - p[0]) * (q[1] - p[1])\n",
    "\n",
    "    def polar_angle(p, q):\n",
    "        return np.arctan2(q[1] - p[1], q[0] - p[0])\n",
    "\n",
    "    # Find the point with the lowest y-coordinate (and leftmost if tied)\n",
    "    start_point = min(points, key=lambda p: (p[1], p[0]))\n",
    "\n",
    "    # Sort the points based on polar angles with respect to the start point\n",
    "    sorted_points = sorted(points, key=lambda p: (polar_angle(start_point, p), -p[1], p[0]))\n",
    "\n",
    "    # Initialize the convex hull with the first three sorted points\n",
    "    convex_hull = [sorted_points[0], sorted_points[1], sorted_points[2]]\n",
    "\n",
    "    # Iterate through the sorted points and construct the convex hull\n",
    "    for point in sorted_points[3:]:\n",
    "        while len(convex_hull) >= 2 and cross_product(convex_hull[-2], convex_hull[-1], point) <= 0:\n",
    "            convex_hull.pop()\n",
    "        convex_hull.append(point)\n",
    "\n",
    "    return convex_hull\n",
    "\n",
    "# Reshape the array to (100, 2) for plotting\n",
    "colors = list(set(mcolors.CSS4_COLORS))[::4]\n",
    "# print(colors)\n",
    "reshaped_centers = medioids.reshape(-1, 2)\n",
    "cx_coords = reshaped_centers[:, 0]\n",
    "cy_coords = reshaped_centers[:, 1]\n",
    "\n",
    "for i,m in enumerate(clusters):\n",
    "\n",
    "  reshaped_data = m.reshape(-1, 2)\n",
    "  print(reshaped_data.shape)\n",
    "    # Compute the convex hull using Graham Scan\n",
    "  convex_hull = graham_scan_convex_hull(reshaped_data)\n",
    "  convex_hull.append(convex_hull[0])\n",
    "\n",
    "\n",
    "  # Convert the convex hull points to a numpy array for visualization\n",
    "  convex_hull_array = np.array(convex_hull)\n",
    "  \n",
    "\n",
    "  # Plot the original points and the convex hull\n",
    "  # plt.scatter(reshaped_data[:, 0], reshaped_data[:, 1], c='blue', label='Points')\n",
    "  plt.plot(convex_hull_array[:, 0], convex_hull_array[:, 1], c=colors[i], marker='o', label='Convex Hull')\n",
    "\n",
    "  x_coords = reshaped_data[:, 0]\n",
    "  y_coords = reshaped_data[:, 1]\n",
    "  plt.scatter(x_coords, y_coords, marker=\"o\", color=colors[i], s=20)\n",
    "  plt.scatter(cx_coords[i], cy_coords[i], marker=\"x\", color=colors[i], s=30)\n",
    "\n",
    "# Add labels and title\n",
    "plt.xlabel(\"X Coordinate\")\n",
    "plt.ylabel(\"Y Coordinate\")\n",
    "plt.title(\"Scatter Plot of Data Points\")\n",
    "\n",
    "# Display the plot\n",
    "plt.show()\n",
    "\n"
   ]
  },
  {
   "cell_type": "code",
   "execution_count": null,
   "metadata": {},
   "outputs": [],
   "source": []
  }
 ],
 "metadata": {
  "kernelspec": {
   "display_name": "Python 3 (ipykernel)",
   "language": "python",
   "name": "python3"
  },
  "language_info": {
   "codemirror_mode": {
    "name": "ipython",
    "version": 3
   },
   "file_extension": ".py",
   "mimetype": "text/x-python",
   "name": "python",
   "nbconvert_exporter": "python",
   "pygments_lexer": "ipython3",
   "version": "3.10.6"
  },
  "orig_nbformat": 4
 },
 "nbformat": 4,
 "nbformat_minor": 2
}
