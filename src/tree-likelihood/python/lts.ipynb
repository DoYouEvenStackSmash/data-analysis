{
 "cells": [
  {
   "cell_type": "code",
   "execution_count": 1,
   "metadata": {},
   "outputs": [],
   "source": [
    "from clustering_driver import *"
   ]
  },
  {
   "cell_type": "code",
   "execution_count": null,
   "metadata": {},
   "outputs": [],
   "source": [
    "def search_level_tree(node_list, data_list, T):\n",
    "    nearest_level_clusters = level_order_search(node_list, T)\n",
    "    totsum = 0\n",
    "    for level in nearest_level_clusters:\n",
    "        minsum = 0\n",
    "        for cluster_id in level:\n",
    "            nn = 0\n",
    "            min_dist = float(\"inf\")\n",
    "            for i in node_list[cluster_id].data_refs:\n",
    "                dist = custom_distance(node_list[i].val, T)\n",
    "                if dist < min_dist:\n",
    "                    nn = i\n",
    "                    min_dist = dist\n",
    "            minsum += min_dist\n",
    "        totsum += minsum\n",
    "    return totsum\n",
    "\n",
    "\n",
    "def search_level_tree_associations(node_list, data_list, input_list):\n",
    "    \"\"\"\n",
    "    Computes matches using tree-based nearest neighbor search.\n",
    "\n",
    "    Args:\n",
    "        node_list (list of ClusterTreeNode): List of nodes representing a search tree structure.\n",
    "        data_list (list of DatumT): List of data points for comparison.\n",
    "        input_list (list of DatumT): List of input points to find matches for.\n",
    "\n",
    "    Returns:\n",
    "        di_match (list of ints): List of indices representing nearest neighbors found in the search tree.\n",
    "        ds_match (list of floats): List of corresponding distances to nearest neighbors.\n",
    "    \"\"\"\n",
    "    di_match_indices = []\n",
    "    ds_match_distances = []\n",
    "\n",
    "    start_time = time.perf_counter()\n",
    "    totsums = []\n",
    "    # For each input point in the input list\n",
    "    for input_index, input_point in enumerate(input_list):\n",
    "        # Search the tree to find nearest neighbor and distance\n",
    "        totsum = search_level_tree(node_list, data_list, input_point)\n",
    "\n",
    "    end_time = time.perf_counter()\n",
    "    time_to_locate = end_time - start_time\n",
    "    print(time_to_locate)\n",
    "    # logger.info(\"{}\".format(time_to_locate))\n",
    "    # print(\"Time taken for tree-based search:\", time_to_locate)\n",
    "\n",
    "    return"
   ]
  }
 ],
 "metadata": {
  "kernelspec": {
   "display_name": "Python 3 (ipykernel)",
   "language": "python",
   "name": "python3"
  },
  "language_info": {
   "codemirror_mode": {
    "name": "ipython",
    "version": 3
   },
   "file_extension": ".py",
   "mimetype": "text/x-python",
   "name": "python",
   "nbconvert_exporter": "python",
   "pygments_lexer": "ipython3",
   "version": "3.10.12"
  }
 },
 "nbformat": 4,
 "nbformat_minor": 2
}
