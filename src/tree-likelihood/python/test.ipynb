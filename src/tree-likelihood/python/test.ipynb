{
 "cells": [
  {
   "cell_type": "code",
   "execution_count": 1,
   "metadata": {},
   "outputs": [
    {
     "name": "stdout",
     "output_type": "stream",
     "text": [
      "Modified Deque: deque([1, 2, 3, 4, 5, 6, 7, 8, 9, 2, 4, 6, 8, 10, 12, 14, 16, 18])\n"
     ]
    }
   ],
   "source": [
    "import concurrent.futures\n",
    "from collections import deque\n",
    "\n",
    "\n",
    "def operation_X(element):\n",
    "    # Define the operation X on an element\n",
    "    # Replace the following line with the actual implementation of operation X\n",
    "    result = element * 2\n",
    "    return result\n",
    "\n",
    "\n",
    "def parallel_operation(deque_elements):\n",
    "    # Use ThreadPoolExecutor for parallel execution\n",
    "    with concurrent.futures.ThreadPoolExecutor() as executor:\n",
    "        # Execute operation X on each element in parallel\n",
    "        results = list(executor.map(operation_X, deque_elements[:3]))\n",
    "\n",
    "    return results\n",
    "\n",
    "\n",
    "# Example usage:\n",
    "input_deque = deque([1, 2, 3, 4, 5, 6, 7, 8, 9])\n",
    "\n",
    "# Convert deque to list for parallel processing\n",
    "input_list = list(input_deque)\n",
    "\n",
    "# Perform parallel operation\n",
    "output_results = parallel_operation(input_list)\n",
    "\n",
    "# Update deque with results\n",
    "input_deque.extend(output_results)\n",
    "\n",
    "print(\"Modified Deque:\", input_deque)"
   ]
  }
 ],
 "metadata": {
  "kernelspec": {
   "display_name": "Python 3 (ipykernel)",
   "language": "python",
   "name": "python3"
  },
  "language_info": {
   "codemirror_mode": {
    "name": "ipython",
    "version": 3
   },
   "file_extension": ".py",
   "mimetype": "text/x-python",
   "name": "python",
   "nbconvert_exporter": "python",
   "pygments_lexer": "ipython3",
   "version": "3.10.12"
  }
 },
 "nbformat": 4,
 "nbformat_minor": 2
}
