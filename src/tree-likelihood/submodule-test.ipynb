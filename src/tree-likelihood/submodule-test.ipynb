{
 "cells": [
  {
   "cell_type": "code",
   "execution_count": null,
   "metadata": {},
   "outputs": [],
   "source": []
  },
  {
   "cell_type": "code",
   "execution_count": 1,
   "metadata": {},
   "outputs": [],
   "source": [
    "import sys\n",
    "sys.path.append(\"../ingest-pipeline/src/converters\")\n",
    "sys.path.append(\"../ingest-pipeline/src/generators\")\n",
    "sys.path.append(\"../ingest-pipeline/src/\")\n",
    "sys.path.append(\"./python/\")\n",
    "\n",
    "from DataModel.Atom import Atom, AtomT\n",
    "from DataModel.Structure import Structure, StructureT\n",
    "from DataModel.Quaternion import Quaternion, QuaternionT\n",
    "from DataModel.P import P, PT\n",
    "from DataModel.AtomicModel import *\n",
    "from DataModel.Parameters import Parameters, ParametersT\n",
    "\n",
    "from DataModel.DataClass import DataClass\n",
    "from DataModel.Datum import Datum, DatumT\n",
    "from DataModel.Matrix import Matrix, MatrixT\n",
    "from DataModel.Domain import Domain\n",
    "from DataModel.DataType import DataType\n",
    "from DataModel.DataSet import DataSet, DataSetT\n",
    "from filegroup import *\n",
    "from transform_generator import *\n",
    "from ctf_generator import *\n",
    "from image_generator import *\n",
    "from dataloader import Dataloader as dl\n",
    "import matplotlib.pyplot as plt\n",
    "from datum_helpers import *\n",
    "\n",
    "import argparse\n",
    "from clustering_imports import *\n",
    "\n",
    "\n",
    "from ClusterTreeNode import ClusterTreeNode\n",
    "from collections import deque\n",
    "import time\n",
    "from IPython.display import display\n",
    "import json\n",
    "import networkx as nx\n",
    "from loguru import logger\n",
    "from graph_support import *\n",
    "from likelihood_scratch import *\n",
    "from tree_build import *\n",
    "from clustering_driver import *\n"
   ]
  },
  {
   "cell_type": "code",
   "execution_count": 2,
   "metadata": {},
   "outputs": [
    {
     "name": "stdout",
     "output_type": "stream",
     "text": [
      "100\n",
      "shorted: 3\n",
      "1\n",
      "2\n",
      "3\n",
      "shorted: 3\n",
      "4\n",
      "5\n",
      "6\n",
      "shorted: 3\n",
      "7\n",
      "8\n",
      "9\n",
      "shorted: 3\n",
      "10\n",
      "11\n",
      "12\n",
      "shorted: 3\n",
      "13\n",
      "14\n",
      "15\n",
      "(3,)\n"
     ]
    },
    {
     "ename": "TypeError",
     "evalue": "unsupported operand type(s) for -: 'DatumT' and 'DatumT'",
     "output_type": "error",
     "traceback": [
      "\u001b[0;31m---------------------------------------------------------------------------\u001b[0m",
      "\u001b[0;31mTypeError\u001b[0m                                 Traceback (most recent call last)",
      "\u001b[1;32m/home/aroot/stuff/data-analysis/src/tree-likelihood/submodule-test.ipynb Cell 3\u001b[0m line \u001b[0;36m3\n\u001b[1;32m      <a href='vscode-notebook-cell://wsl%2Bubuntu/home/aroot/stuff/data-analysis/src/tree-likelihood/submodule-test.ipynb#W2sdnNjb2RlLXJlbW90ZQ%3D%3D?line=0'>1</a>\u001b[0m \u001b[39m# img_data = lift_datum_buf_to_datumT(extract_datum(DataSet.GetRootAsDataSet(dl.load_flatbuffer(\"images_0.fbs\"),0)))\u001b[39;00m\n\u001b[1;32m      <a href='vscode-notebook-cell://wsl%2Bubuntu/home/aroot/stuff/data-analysis/src/tree-likelihood/submodule-test.ipynb#W2sdnNjb2RlLXJlbW90ZQ%3D%3D?line=1'>2</a>\u001b[0m \u001b[39m# print(img_data)\u001b[39;00m\n\u001b[0;32m----> <a href='vscode-notebook-cell://wsl%2Bubuntu/home/aroot/stuff/data-analysis/src/tree-likelihood/submodule-test.ipynb#W2sdnNjb2RlLXJlbW90ZQ%3D%3D?line=2'>3</a>\u001b[0m a,b,c \u001b[39m=\u001b[39m hierarchify_wrapper(\u001b[39m\"\u001b[39;49m\u001b[39m../ingest-pipeline/src/output.fbs\u001b[39;49m\u001b[39m\"\u001b[39;49m, \u001b[39m3\u001b[39;49m,\u001b[39m100\u001b[39;49m,\u001b[39m10\u001b[39;49m)\n",
      "File \u001b[0;32m~/stuff/data-analysis/src/tree-likelihood/./python/clustering_driver.py:36\u001b[0m, in \u001b[0;36mhierarchify_wrapper\u001b[0;34m(filename, k, R, C, param_file)\u001b[0m\n\u001b[1;32m     29\u001b[0m P \u001b[39m=\u001b[39m \u001b[39mNone\u001b[39;00m\n\u001b[1;32m     30\u001b[0m \u001b[39m# if param_file != None:\u001b[39;00m\n\u001b[1;32m     31\u001b[0m \u001b[39m#     P = param_loader(param_file, len(M))\u001b[39;00m\n\u001b[1;32m     32\u001b[0m \u001b[39m# else:\u001b[39;00m\n\u001b[1;32m     33\u001b[0m \u001b[39m#     P = param_loader(filename, len(M))\u001b[39;00m\n\u001b[1;32m     34\u001b[0m \n\u001b[1;32m     35\u001b[0m \u001b[39m# print(P)\u001b[39;00m\n\u001b[0;32m---> 36\u001b[0m nl, dl, pl \u001b[39m=\u001b[39m hierarchify(M, k, R, C)\n\u001b[1;32m     37\u001b[0m \u001b[39mreturn\u001b[39;00m nl, dl, pl\n",
      "File \u001b[0;32m~/stuff/data-analysis/src/tree-likelihood/./python/clustering_driver.py:53\u001b[0m, in \u001b[0;36mhierarchify\u001b[0;34m(M, k, R, C)\u001b[0m\n\u001b[1;32m     51\u001b[0m tree_build \u001b[39m=\u001b[39m time\u001b[39m.\u001b[39mperf_counter()\n\u001b[1;32m     52\u001b[0m \u001b[39mprint\u001b[39m(\u001b[39mlen\u001b[39m(M))\n\u001b[0;32m---> 53\u001b[0m node_list \u001b[39m=\u001b[39m construct_tree(M, k, R, C)\n\u001b[1;32m     54\u001b[0m \u001b[39mprint\u001b[39m(node_list)\n\u001b[1;32m     55\u001b[0m tree_build \u001b[39m=\u001b[39m time\u001b[39m.\u001b[39mperf_counter() \u001b[39m-\u001b[39m tree_build\n",
      "File \u001b[0;32m~/stuff/data-analysis/src/tree-likelihood/./python/tree_build.py:101\u001b[0m, in \u001b[0;36mconstruct_tree\u001b[0;34m(M, k, R, C)\u001b[0m\n\u001b[1;32m     99\u001b[0m data \u001b[39m=\u001b[39m np\u001b[39m.\u001b[39marray([data_store[dref] \u001b[39mfor\u001b[39;00m dref \u001b[39min\u001b[39;00m data_ref_arr])\n\u001b[1;32m    100\u001b[0m \u001b[39mif\u001b[39;00m dlen \u001b[39m>\u001b[39m \u001b[39m1\u001b[39m:\n\u001b[0;32m--> 101\u001b[0m     mlist, distances \u001b[39m=\u001b[39m preprocess(data, k)\n\u001b[1;32m    102\u001b[0m     total_sum \u001b[39m=\u001b[39m \u001b[39mfloat\u001b[39m(\u001b[39m\"\u001b[39m\u001b[39minf\u001b[39m\u001b[39m\"\u001b[39m)\n\u001b[1;32m    104\u001b[0m     \u001b[39mfor\u001b[39;00m _ \u001b[39min\u001b[39;00m \u001b[39mrange\u001b[39m(R):\n",
      "File \u001b[0;32m~/stuff/data-analysis/src/tree-likelihood/./python/kmedoids.py:69\u001b[0m, in \u001b[0;36mpreprocess\u001b[0;34m(M, k)\u001b[0m\n\u001b[1;32m     65\u001b[0m pairwise_distances \u001b[39m=\u001b[39m \u001b[39mNone\u001b[39;00m\n\u001b[1;32m     67\u001b[0m M_flat \u001b[39m=\u001b[39m M\u001b[39m.\u001b[39mreshape(n, \u001b[39m-\u001b[39m\u001b[39m1\u001b[39m)\n\u001b[0;32m---> 69\u001b[0m pairwise_distances \u001b[39m=\u001b[39m compute_distance_matrix(M_flat)\n\u001b[1;32m     71\u001b[0m \u001b[39m# Step 1-2: Calculate denominators efficiently\u001b[39;00m\n\u001b[1;32m     72\u001b[0m denominators \u001b[39m=\u001b[39m np\u001b[39m.\u001b[39msum(pairwise_distances, axis\u001b[39m=\u001b[39m\u001b[39m1\u001b[39m)\n",
      "File \u001b[0;32m~/stuff/data-analysis/src/tree-likelihood/./python/kmedoids.py:50\u001b[0m, in \u001b[0;36mcompute_distance_matrix\u001b[0;34m(M_flat)\u001b[0m\n\u001b[1;32m     45\u001b[0m \u001b[39mdef\u001b[39;00m \u001b[39mcompute_distance_matrix\u001b[39m(M_flat):\n\u001b[1;32m     46\u001b[0m \u001b[39m    \u001b[39m\u001b[39m\"\"\"\u001b[39;00m\n\u001b[1;32m     47\u001b[0m \u001b[39m    Build an nxn matrix of all pairwise distances between elements\u001b[39;00m\n\u001b[1;32m     48\u001b[0m \u001b[39m    \"\"\"\u001b[39;00m\n\u001b[1;32m     49\u001b[0m     pairwise_distances \u001b[39m=\u001b[39m np\u001b[39m.\u001b[39msqrt(\n\u001b[0;32m---> 50\u001b[0m         np\u001b[39m.\u001b[39msum(np\u001b[39m.\u001b[39msquare(M_flat[:, np\u001b[39m.\u001b[39;49mnewaxis] \u001b[39m-\u001b[39;49m M_flat), axis\u001b[39m=\u001b[39m\u001b[39m2\u001b[39m)\n\u001b[1;32m     51\u001b[0m     )\n\u001b[1;32m     52\u001b[0m     \u001b[39mreturn\u001b[39;00m pairwise_distances\n",
      "\u001b[0;31mTypeError\u001b[0m: unsupported operand type(s) for -: 'DatumT' and 'DatumT'"
     ]
    }
   ],
   "source": [
    "# img_data = lift_datum_buf_to_datumT(extract_datum(DataSet.GetRootAsDataSet(dl.load_flatbuffer(\"images_0.fbs\"),0)))\n",
    "# print(img_data)\n",
    "a,b,c = hierarchify_wrapper(\"../ingest-pipeline/src/output.fbs\", 2,100,10)\n",
    "\n"
   ]
  },
  {
   "cell_type": "code",
   "execution_count": null,
   "metadata": {},
   "outputs": [
    {
     "ename": "NameError",
     "evalue": "name 'a' is not defined",
     "output_type": "error",
     "traceback": [
      "\u001b[0;31m---------------------------------------------------------------------------\u001b[0m",
      "\u001b[0;31mNameError\u001b[0m                                 Traceback (most recent call last)",
      "\u001b[1;32m/home/aroot/stuff/data-analysis/src/tree-likelihood/submodule-test.ipynb Cell 4\u001b[0m line \u001b[0;36m1\n\u001b[0;32m----> <a href='vscode-notebook-cell://wsl%2Bubuntu/home/aroot/stuff/data-analysis/src/tree-likelihood/submodule-test.ipynb#W3sdnNjb2RlLXJlbW90ZQ%3D%3D?line=0'>1</a>\u001b[0m \u001b[39mprint\u001b[39m(a[\u001b[39m0\u001b[39m]\u001b[39m.\u001b[39mchildren)\n",
      "\u001b[0;31mNameError\u001b[0m: name 'a' is not defined"
     ]
    }
   ],
   "source": []
  }
 ],
 "metadata": {
  "kernelspec": {
   "display_name": "Python 3 (ipykernel)",
   "language": "python",
   "name": "python3"
  },
  "language_info": {
   "codemirror_mode": {
    "name": "ipython",
    "version": 3
   },
   "file_extension": ".py",
   "mimetype": "text/x-python",
   "name": "python",
   "nbconvert_exporter": "python",
   "pygments_lexer": "ipython3",
   "version": "3.10.12"
  }
 },
 "nbformat": 4,
 "nbformat_minor": 2
}
