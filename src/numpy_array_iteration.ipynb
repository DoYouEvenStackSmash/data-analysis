{
 "cells": [
  {
   "cell_type": "code",
   "execution_count": 15,
   "metadata": {},
   "outputs": [
    {
     "name": "stdout",
     "output_type": "stream",
     "text": [
      "[[[ 6  9  8 14]\n",
      "  [ 1  9  2 15]\n",
      "  [ 3 15 15  2]\n",
      "  [ 5  3 12  3]]\n",
      "\n",
      " [[ 0  7 10  3]\n",
      "  [ 8  4  9 13]\n",
      "  [ 1 12  3 13]\n",
      "  [ 5  6  9  7]]\n",
      "\n",
      " [[13  7  3 14]\n",
      "  [ 0  3  1  5]\n",
      "  [ 3 15  5 10]\n",
      "  [ 6  6 14  6]]]\n"
     ]
    }
   ],
   "source": [
    "import numpy as np\n",
    "rand_arr_2 = np.random.randint(0,16,(3,4,4))\n",
    "\n",
    "print(rand_arr_2)"
   ]
  },
  {
   "cell_type": "code",
   "execution_count": 34,
   "metadata": {},
   "outputs": [
    {
     "name": "stdout",
     "output_type": "stream",
     "text": [
      "7.145833333333333\n"
     ]
    }
   ],
   "source": [
    "static_arr = np.array([[[13,  0,  4,  8],\n",
    "                        [15, 14, 12,  4],\n",
    "                        [ 8,  2,  6,  0],\n",
    "                        [ 2,  3,  4, 14]],\n",
    "                       \n",
    "                       [[ 0, 13, 12, 14],\n",
    "                        [13, 12, 15,  0],\n",
    "                        [15,  0,  8,  7],\n",
    "                        [ 8,  6, 13,  4]],\n",
    "                       \n",
    "                       [[ 6,  1,  4,  3],\n",
    "                        [ 9, 14,  8, 15],\n",
    "                        [ 6,  2,  9, 15],\n",
    "                        [ 7,  2, 13,  3]]])\n",
    "\n",
    "\n",
    "static_arr_2 = np.array([[[ 6,  9,  8, 14],\n",
    "                         [ 1,  9,  2, 15],\n",
    "                         [ 3, 15, 15,  2],\n",
    "                         [ 5,  3, 12,  3]],\n",
    "                        \n",
    "                        [[ 0,  7, 10,  3],\n",
    "                         [ 8,  4,  9, 13],\n",
    "                         [ 1, 12,  3, 13],\n",
    "                         [ 5,  6,  9,  7]],\n",
    "                        \n",
    "                        [[13,  7,  3, 14],\n",
    "                         [ 0,  3,  1,  5],\n",
    "                         [ 3, 15,  5, 10],\n",
    "                         [ 6,  6, 14,  6]]])\n",
    "\n",
    "G = 16\n",
    "N = 4\n",
    "print(np.mean(static_arr_2))\n",
    "\n",
    "# norm_const = np.divide(1, G * N)\n",
    "# for i in range(static_arr.shape[0]):\n",
    "#   print(\"{}\\t{}\".format(i,np.multiply(norm_const, np.sqrt(np.sum(np.array([np.power(i, 2) for i in (static_arr[i] - static_arr_2[i]).flatten()]))))))\n"
   ]
  },
  {
   "cell_type": "code",
   "execution_count": 14,
   "metadata": {},
   "outputs": [
    {
     "name": "stdout",
     "output_type": "stream",
     "text": [
      "13 0 4 8 \n",
      "15 14 12 4 \n",
      "8 2 6 0 \n",
      "2 3 4 14 \n",
      "\n",
      "0 13 12 14 \n",
      "13 12 15 0 \n",
      "15 0 8 7 \n",
      "8 6 13 4 \n",
      "\n",
      "6 1 4 3 \n",
      "9 14 8 15 \n",
      "6 2 9 15 \n",
      "7 2 13 3 \n",
      "\n"
     ]
    }
   ],
   "source": [
    "# get rmsd between two images of identical shape\n",
    "def same_shape_RMSD(A,B):\n",
    "\n",
    "# visit each image\n",
    "for a,i in enumerate(A):\n",
    "  # print(\"{}\\n{}\".format(a,i))\n",
    "  \n",
    "  # visit each row\n",
    "  for b,j in enumerate(i):\n",
    "    # print(\"{},{}\\n{}\".format(a,b,j))\n",
    "\n",
    "    # visit each column\n",
    "    for c,k in enumerate(j):\n",
    "      print(\"{}\".format(k),end=\" \")\n",
    "    print(\"\")\n",
    "  print(\"\")\n"
   ]
  },
  {
   "cell_type": "code",
   "execution_count": 35,
   "metadata": {},
   "outputs": [],
   "source": []
  },
  {
   "cell_type": "code",
   "execution_count": 42,
   "metadata": {},
   "outputs": [
    {
     "data": {
      "text/plain": [
       "(3, 3, 3)"
      ]
     },
     "execution_count": 42,
     "metadata": {},
     "output_type": "execute_result"
    }
   ],
   "source": [
    "values = np.arange(1, 10)\n",
    "values = values.reshape(3,3)\n",
    "stat_arr = np.array([values,values,values])\n",
    "stat_arr.shape"
   ]
  },
  {
   "cell_type": "code",
   "execution_count": 43,
   "metadata": {},
   "outputs": [],
   "source": [
    "mean3x3 = np.mean(stat_arr,axis=0)"
   ]
  },
  {
   "cell_type": "code",
   "execution_count": 47,
   "metadata": {},
   "outputs": [
    {
     "data": {
      "text/plain": [
       "(3, 3)"
      ]
     },
     "execution_count": 47,
     "metadata": {},
     "output_type": "execute_result"
    }
   ],
   "source": [
    "mean3x3.shape"
   ]
  },
  {
   "cell_type": "code",
   "execution_count": 9,
   "metadata": {},
   "outputs": [
    {
     "name": "stdout",
     "output_type": "stream",
     "text": [
      "(100000, 3, 3)\n"
     ]
    }
   ],
   "source": [
    "import numpy as np\n",
    "\n",
    "# Parameters of the Gaussian distribution\n",
    "mean = 50\n",
    "std_dev = 3\n",
    "num_samples = 100000\n",
    "N = 3\n",
    "\n",
    "# Generate samples from the Gaussian distribution\n",
    "samples = np.random.normal(mean, std_dev, num_samples)\n",
    "m = np.min(samples)\n",
    "mx = np.max(samples)\n",
    "data_arr = []\n",
    "for i in samples:\n",
    "    data_arr.append(np.full((N,N),i-m))\n",
    "data_arr = np.array(data_arr)\n",
    "G = mx - m\n",
    "norm_const = np.divide(1, G * N)\n",
    "\n",
    "def distance(obj1, obj2):\n",
    "    if obj1.flatten().all() == obj2.flatten().all():\n",
    "        return 0.\n",
    "    return np.multiply(norm_const, np.sqrt(np.sum(np.array([np.power(i, 2) for i in (obj1 - obj2).flatten()]))))\n",
    "\n",
    "def assign_clusters(data, centroids):\n",
    "    clusters = [[] for _ in centroids]\n",
    "    for img in data:\n",
    "        min_dist = float('inf')\n",
    "        nn = None\n",
    "        for idx, ctr in enumerate(centroids):\n",
    "            pdist = distance(img, ctr)\n",
    "            if not pdist > 0.:\n",
    "                continue\n",
    "            if pdist < min_dist:\n",
    "                min_dist = pdist\n",
    "                nn = idx\n",
    "        if nn != None:\n",
    "            clusters[nn].append(img)\n",
    "    return clusters\n",
    "\n",
    "def update_centroids(clusters, old_centroids):\n",
    "    centroids = [np.zeros((N,N)) for _ in clusters]\n",
    "    for idx, cluster in enumerate(clusters):\n",
    "        rep = old_centroids[idx]\n",
    "        if len(cluster):\n",
    "            rep = np.mean(cluster, axis=0)\n",
    "        centroids[idx] = rep\n",
    "    return np.array(centroids)\n",
    "\n",
    "\n",
    "def kmeans(data, k=2, max_iters=1000):\n",
    "    num_samples, num_features = data.shape[0],data.shape[1]\n",
    "\n",
    "    # Randomly initialize k centroids\n",
    "    centroids = data[np.random.choice(num_samples, k, replace=False)]\n",
    "\n",
    "    for _ in range(max_iters):\n",
    "        # Assign each data point to the nearest centroid\n",
    "        clusters = assign_clusters(data, centroids)\n",
    "        new_centroids = update_centroids(clusters, centroids)\n",
    "\n",
    "        # Check for convergence\n",
    "        if centroids.all() == new_centroids.all():\n",
    "            break\n",
    "\n",
    "        centroids = new_centroids\n",
    "\n",
    "    return clusters, centroids\n",
    "\n",
    "k = 20\n",
    "print(data_arr.shape)\n",
    "clusters, centroids = kmeans(data_arr, k)\n",
    "X = []\n",
    "Y = []\n",
    "\n",
    "for i in range(k):\n",
    "    X.append(centroids[i,0,0])\n",
    "    Y.append(len(clusters[i]))\n",
    "    # print(\"{}:{}\\n\\t{}\".format(i,centroids[i,0],len(clusters[i])))\n",
    "\n"
   ]
  },
  {
   "cell_type": "code",
   "execution_count": 10,
   "metadata": {},
   "outputs": [
    {
     "data": {
      "image/png": "[encoded data removed]",
      "text/plain": [
       "<Figure size 640x480 with 1 Axes>"
      ]
     },
     "metadata": {},
     "output_type": "display_data"
    }
   ],
   "source": [
    "import matplotlib.pyplot as plt\n",
    "# Create the histogram\n",
    "plt.bar(X, Y, align='center')\n",
    "\n",
    "# Add labels and title \n",
    "plt.xlabel('X Values')\n",
    "plt.ylabel('Frequency')\n",
    "plt.title('Histogram of X Values')\n",
    "\n",
    "# Show the plot\n",
    "plt.show()"
   ]
  },
  {
   "cell_type": "code",
   "execution_count": 7,
   "metadata": {},
   "outputs": [
    {
     "name": "stdout",
     "output_type": "stream",
     "text": [
      "0.010518894199433117\n"
     ]
    }
   ],
   "source": [
    "import random\n",
    "total_weight = 0.1\n",
    "random_number = random.uniform(0, total_weight)\n",
    "print(random_number)"
   ]
  },
  {
   "cell_type": "code",
   "execution_count": 3,
   "metadata": {},
   "outputs": [
    {
     "data": {
      "image/png": "[encoded data removed]",
      "text/plain": [
       "<Figure size 640x480 with 1 Axes>"
      ]
     },
     "metadata": {},
     "output_type": "display_data"
    }
   ],
   "source": [
    "import matplotlib.pyplot as plt\n",
    "import random\n",
    "\n",
    "# Generate a list of random values\n",
    "num_values = 15000  # You can change this to the desired number of random values\n",
    "random_values = [random.randint(0, 100) for _ in range(num_values)]\n",
    "\n",
    "# Create a histogram of the random values\n",
    "plt.hist(random_values, bins=10, range=(0, 100), edgecolor='black')\n",
    "\n",
    "# Add labels and title\n",
    "plt.xlabel('Value')\n",
    "plt.ylabel('Frequency')\n",
    "plt.title('Histogram of Random Values between 0 and 100')\n",
    "\n",
    "# Show the plot\n",
    "plt.show()\n"
   ]
  },
  {
   "cell_type": "code",
   "execution_count": null,
   "metadata": {},
   "outputs": [],
   "source": []
  }
 ],
 "metadata": {
  "kernelspec": {
   "display_name": "Python 3 (ipykernel)",
   "language": "python",
   "name": "python3"
  },
  "orig_nbformat": 4
 },
 "nbformat": 4,
 "nbformat_minor": 2
}
