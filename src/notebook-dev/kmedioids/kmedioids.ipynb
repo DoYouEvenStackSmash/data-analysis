{
 "cells": [
  {
   "cell_type": "code",
   "execution_count": null,
   "metadata": {},
   "outputs": [],
   "source": [
    "import numpy as np\n",
    "from collections import deque\n",
    "\n",
    "\n",
    "class Datum:\n",
    "    def __init__(self, idx, v=0.0, apdict=None):\n",
    "        self.idx = idx\n",
    "        self.v = v\n",
    "        self.apdict = apdict if apdict != None else {}\n",
    "\n",
    "\n",
    "def D(di, dj):\n",
    "    return np.sqrt(np.sum(np.array([np.power(i, 2) for i in (di - dj).flatten()])))"
   ]
  },
  {
   "cell_type": "code",
   "execution_count": 12,
   "metadata": {},
   "outputs": [],
   "source": [
    "# initialize input space\n",
    "M = np.random.randint(0, 100, (1000, 1, 2))\n",
    "n = M.shape[0]\n",
    "\n",
    "# initialize objects\n",
    "data = []\n",
    "for idx in range(n):\n",
    "    data.append(Datum(idx))\n",
    "# step 1-1: all pairs distances\n",
    "for idx in range(n):\n",
    "    for jdx in range(n):\n",
    "        # if idx == jdx:\n",
    "        #   continue\n",
    "        dist = D(M[idx], M[jdx])\n",
    "        data[idx].apdict[jdx] = dist\n",
    "# step 1-2: V values for objects j\n",
    "\n",
    "# precalculate denominators\n",
    "denominators = []\n",
    "for di in data:\n",
    "    isum = 0.0\n",
    "    for i in di.apdict:\n",
    "        isum += di.apdict[i]\n",
    "    denominators.append(isum)\n",
    "\n",
    "# compute v values\n",
    "for j, dj in enumerate(data):\n",
    "    big_sum = 0.0\n",
    "    for idx in dj.apdict:\n",
    "        denominator = denominators[idx]\n",
    "        numerator = dj.apdict[idx]\n",
    "        big_sum += np.divide(numerator, denominator)\n",
    "    data[j].v = big_sum\n",
    "# step 1-3: sort by v value and choose k medioids\n",
    "sortkey = lambda d: d.v\n",
    "sorted_data = sorted(data, key=sortkey)\n",
    "k = 4\n",
    "medioid_idx = set([i.idx for i in sorted_data[:k]])\n",
    "print(medioid_idx)"
   ]
  },
  {
   "cell_type": "code",
   "execution_count": 1,
   "metadata": {},
   "outputs": [
    {
     "name": "stdout",
     "output_type": "stream",
     "text": [
      "{320, 225, 60, 399}\n"
     ]
    }
   ],
   "source": [
    "import numpy as np\n",
    "import sys\n",
    "\n",
    "\n",
    "class Datum:\n",
    "    def __init__(self, idx):\n",
    "        self.idx = idx\n",
    "        self.v = 0.0\n",
    "        self.apdict = None\n",
    "\n",
    "\n",
    "# Initialize input space\n",
    "M = np.random.randint(0, 100, (1000, 2))\n",
    "\n",
    "n = M.shape[0]\n",
    "\n",
    "\n",
    "distances = np.sqrt(np.sum(np.square(M[:, np.newaxis, :] - M), axis=2))\n",
    "\n",
    "# Step 1-2: Calculate denominators efficiently\n",
    "denominators = np.sum(distances, axis=1)\n",
    "# Calculate v values using vectorized operations\n",
    "v_values = distances / denominators[:, np.newaxis]\n",
    "np.fill_diagonal(v_values, 0)  # Set diagonal values to 0\n",
    "v_sums = np.sum(v_values, axis=1)\n",
    "# Initialize objects using list comprehension\n",
    "data = [Datum(idx) for idx in range(n)]\n",
    "\n",
    "# Assign calculated v values to data objects\n",
    "for j in range(n):\n",
    "    data[j].v = v_sums[j]\n",
    "\n",
    "# Find the indices of top k medioids using argpartition\n",
    "k = 4\n",
    "medioid_indices = np.argpartition(v_sums, -k)[-k:]\n",
    "\n",
    "# Sort the medioid indices by v values\n",
    "medioid_indices = medioid_indices[np.argsort(v_sums[medioid_indices])]\n",
    "\n",
    "# Print the medioid indices\n",
    "print(set(medioid_indices))"
   ]
  },
  {
   "cell_type": "code",
   "execution_count": 8,
   "metadata": {},
   "outputs": [
    {
     "name": "stdout",
     "output_type": "stream",
     "text": [
      "{32, 16, 74, 79}\n"
     ]
    }
   ],
   "source": [
    "def assign_clusters(dlen, mlist, distances):\n",
    "    clusters = [[] for _ in mlist]\n",
    "\n",
    "    for idx in range(dlen):\n",
    "        distances_to_medioids = distances[idx, mlist]\n",
    "        nearest_medioid_index = np.argmin(distances_to_medioids)\n",
    "        clusters[nearest_medioid_index].append(idx)\n",
    "\n",
    "    return clusters\n",
    "\n",
    "\n",
    "def calculate_sum(clusters, mlist, distances):\n",
    "    total_sum = np.sum(\n",
    "        [distances[idx, midx] for midx in mlist for idx in clusters[mlist.index(midx)]]\n",
    "    )\n",
    "    return total_sum\n",
    "\n",
    "\n",
    "def update_medioids(clusters, mlist, distances):\n",
    "    new_mlist = []\n",
    "\n",
    "    for midx in mlist:\n",
    "        cluster = clusters[mlist.index(midx)]\n",
    "        cluster_distances = np.sum(distances[cluster][:, cluster], axis=1)\n",
    "        new_mlist.append(cluster[np.argmin(cluster_distances)])\n",
    "\n",
    "    return new_mlist\n",
    "\n",
    "\n",
    "def kmedioids(M, data, k=5, max_iter=100):\n",
    "    sortkey = lambda d: d.v\n",
    "    sorted_data = sorted(data, key=sortkey)\n",
    "    medioid_indices = np.argpartition(np.array([d.v for d in sorted_data]), k)[:k]\n",
    "    mlist = list(medioid_indices)\n",
    "    n = M.shape[0]\n",
    "    dlen = len(data)\n",
    "\n",
    "    # Precompute distances\n",
    "    distances = np.sqrt(np.sum(np.square(M[:, np.newaxis, :] - M), axis=2))\n",
    "\n",
    "    total_sum = float(\"inf\")\n",
    "    for _ in range(max_iter):\n",
    "        clusters = assign_clusters(dlen, mlist, distances)\n",
    "        mlist = update_medioids(clusters, mlist, distances)\n",
    "        new_sum = calculate_sum(clusters, mlist, distances)\n",
    "        if new_sum == total_sum:\n",
    "            break\n",
    "        total_sum = new_sum\n",
    "\n",
    "    return clusters, mlist\n",
    "\n",
    "\n",
    "# Call kmedioids function\n",
    "clusters, mlist = kmedioids(M, data, k, max_iter=100)\n",
    "print(set(mlist))"
   ]
  },
  {
   "cell_type": "code",
   "execution_count": 16,
   "metadata": {},
   "outputs": [],
   "source": [
    "# step 1-4: Obtain the initial cluster result by assigning each object to the nearest medoid.\n",
    "def assign_clusters(data, mlist):\n",
    "    \"\"\"\n",
    "    assign the data to clusters\n",
    "    \"\"\"\n",
    "    clusters = [[] for _ in mlist]\n",
    "    for idx in range(n):\n",
    "        di = data[idx]\n",
    "        min_dist = float(\"inf\")\n",
    "        mindex = None\n",
    "        for i, midx in enumerate(mlist):\n",
    "            if midx == idx:\n",
    "                mindex = i\n",
    "                break\n",
    "            if di.apdict[midx] < min_dist:\n",
    "                min_dist = di.apdict[midx]\n",
    "                mindex = i\n",
    "\n",
    "        clusters[mindex].append(idx)\n",
    "    return clusters\n",
    "\n",
    "\n",
    "# mlist = list(medioid_idx)\n",
    "# clusters = assign_clusters(data, mlist)\n",
    "# step 1-5\n",
    "def calculate_sum(data, clusters, mlist):\n",
    "    total_sum = 0.0\n",
    "    for i, midx in enumerate(mlist):\n",
    "        cluster = clusters[i]\n",
    "        for idx in cluster:\n",
    "            total_sum += data[idx].apdict[midx]\n",
    "    return total_sum\n",
    "\n",
    "\n",
    "def update_medioids(data, clusters, mlist):\n",
    "    new_mlist = []\n",
    "    for i, midx in enumerate(mlist):\n",
    "        cluster = clusters[i]\n",
    "        min_dist = float(\"inf\")\n",
    "        mindex = None\n",
    "        for idx in cluster:\n",
    "            cdist = 0.0\n",
    "            for sidx in cluster:\n",
    "                cdist += data[idx].apdict[sidx]\n",
    "            if cdist < min_dist:\n",
    "                min_dist = cdist\n",
    "                mindex = idx\n",
    "        new_mlist.append(mindex)\n",
    "\n",
    "    return new_mlist\n",
    "\n",
    "\n",
    "# mlist = update_medioids(data, clusters ,mlist)\n",
    "def kmedioids(M, data, k=5, max_iter=100):\n",
    "    sortkey = lambda d: d.v\n",
    "    sorted_data = sorted(data, key=sortkey)\n",
    "    k = 5\n",
    "    medioid_idx = set([i.idx for i in sorted_data[:k]])\n",
    "    mlist = list(medioid_idx)\n",
    "    n = M.shape[0]\n",
    "    total_sum = float(\"inf\")\n",
    "    for _ in range(max_iter):\n",
    "        clusters = assign_clusters(data, mlist)\n",
    "        mlist = update_medioids(data, clusters, mlist)\n",
    "        new_sum = calculate_sum(data, clusters, mlist)\n",
    "        if new_sum == total_sum:\n",
    "            break\n",
    "        total_sum = new_sum\n",
    "    return clusters, mlist"
   ]
  },
  {
   "cell_type": "code",
   "execution_count": 9,
   "metadata": {},
   "outputs": [],
   "source": [
    "# clusters, mlist = kmedioids(M, data, k, 20)\n",
    "medioids = np.array([M[idx] for idx in mlist])\n",
    "for i in range(k):\n",
    "    clusters[i] = np.stack(np.array([M[j] for j in clusters[i]]))\n",
    "    # print(clusters[i].shape)"
   ]
  },
  {
   "cell_type": "code",
   "execution_count": 2,
   "metadata": {},
   "outputs": [],
   "source": [
    "# Create a NumPy array with a ragged shape\n",
    "# ragged_array = np.array(clusters)\n",
    "\n",
    "# Save the ragged array using np.save()\n",
    "np.save(\"data_array.npy\", M)\n",
    "# np.save('medioids_array.npy', medioids)"
   ]
  },
  {
   "cell_type": "code",
   "execution_count": 11,
   "metadata": {},
   "outputs": [
    {
     "name": "stdout",
     "output_type": "stream",
     "text": [
      "[277.4875162567725, 287.17313628818584, 183.54989617418892, 213.8484786346134]\n"
     ]
    }
   ],
   "source": [
    "# Vectorized distance calculation\n",
    "def D_vect(di, dj):\n",
    "    return np.sqrt(np.sum(np.square(di - dj), axis=0))\n",
    "\n",
    "\n",
    "msums = [0] * len(mlist)\n",
    "for i, midx in enumerate(mlist):\n",
    "    for pidx in clusters[i]:\n",
    "        # print(M[midx].shape)\n",
    "        msums[i] += D_vect(M[midx], pidx)\n",
    "print(msums)"
   ]
  },
  {
   "cell_type": "code",
   "execution_count": 13,
   "metadata": {},
   "outputs": [
    {
     "data": {
      "image/png": "[encoded data removed]",
      "text/plain": [
       "<Figure size 640x480 with 1 Axes>"
      ]
     },
     "metadata": {},
     "output_type": "display_data"
    },
    {
     "ename": "",
     "evalue": "",
     "output_type": "error",
     "traceback": [
      "\u001b[1;31mThe Kernel crashed while executing code in the the current cell or a previous cell. Please review the code in the cell(s) to identify a possible cause of the failure. Click <a href='https://aka.ms/vscodeJupyterKernelCrash'>here</a> for more info. View Jupyter <a href='command:jupyter.viewOutput'>log</a> for further details."
     ]
    }
   ],
   "source": [
    "import matplotlib.pyplot as plt\n",
    "import matplotlib.colors as mcolors\n",
    "\n",
    "\n",
    "def graham_scan_convex_hull(points):\n",
    "    def cross_product(p, q, r):\n",
    "        return (q[0] - p[0]) * (r[1] - p[1]) - (r[0] - p[0]) * (q[1] - p[1])\n",
    "\n",
    "    def polar_angle(p, q):\n",
    "        return np.arctan2(q[1] - p[1], q[0] - p[0])\n",
    "\n",
    "    # Find the point with the lowest y-coordinate (and leftmost if tied)\n",
    "    start_point = min(points, key=lambda p: (p[1], p[0]))\n",
    "\n",
    "    # Sort the points based on polar angles with respect to the start point\n",
    "    sorted_points = sorted(\n",
    "        points, key=lambda p: (polar_angle(start_point, p), -p[1], p[0])\n",
    "    )\n",
    "\n",
    "    # Initialize the convex hull with the first three sorted points\n",
    "    convex_hull = [sorted_points[0], sorted_points[1], sorted_points[2]]\n",
    "\n",
    "    # Iterate through the sorted points and construct the convex hull\n",
    "    for point in sorted_points[3:]:\n",
    "        while (\n",
    "            len(convex_hull) >= 2\n",
    "            and cross_product(convex_hull[-2], convex_hull[-1], point) <= 0\n",
    "        ):\n",
    "            convex_hull.pop()\n",
    "        convex_hull.append(point)\n",
    "\n",
    "    return convex_hull\n",
    "\n",
    "\n",
    "# Reshape the array to (100, 2) for plotting\n",
    "colors = list(set(mcolors.CSS4_COLORS))[::4]\n",
    "# print(colors)\n",
    "reshaped_centers = medioids.reshape(-1, 2)\n",
    "cx_coords = reshaped_centers[:, 0]\n",
    "cy_coords = reshaped_centers[:, 1]\n",
    "\n",
    "for i, m in enumerate(clusters):\n",
    "    reshaped_data = m.reshape(-1, 2)\n",
    "    if len(m) > 2:\n",
    "        convex_hull = graham_scan_convex_hull(reshaped_data)\n",
    "        convex_hull.append(convex_hull[0])\n",
    "\n",
    "        # Convert the convex hull points to a numpy array for visualization\n",
    "        convex_hull_array = np.array(convex_hull)\n",
    "\n",
    "        # Plot the original points and the convex hull\n",
    "        # plt.scatter(reshaped_data[:, 0], reshaped_data[:, 1], c='blue', label='Points')\n",
    "        plt.plot(\n",
    "            convex_hull_array[:, 0],\n",
    "            convex_hull_array[:, 1],\n",
    "            c=colors[i],\n",
    "            marker=\"o\",\n",
    "            label=\"Convex Hull\",\n",
    "        )\n",
    "\n",
    "    x_coords = reshaped_data[:, 0]\n",
    "    y_coords = reshaped_data[:, 1]\n",
    "    plt.scatter(x_coords, y_coords, marker=\"o\", color=colors[i], s=1)\n",
    "    plt.scatter(cx_coords[i], cy_coords[i], marker=\"x\", color=colors[i], s=40)\n",
    "\n",
    "# Add labels and title\n",
    "plt.xlabel(\"X Coordinate\")\n",
    "plt.ylabel(\"Y Coordinate\")\n",
    "plt.title(\"Scatter Plot of Data Points\")\n",
    "\n",
    "# Display the plot\n",
    "plt.show()"
   ]
  },
  {
   "cell_type": "code",
   "execution_count": 1,
   "metadata": {},
   "outputs": [
    {
     "name": "stderr",
     "output_type": "stream",
     "text": [
      "2023-08-25 15:07:53.456357: I tensorflow/core/util/port.cc:110] oneDNN custom operations are on. You may see slightly different numerical results due to floating-point round-off errors from different computation orders. To turn them off, set the environment variable `TF_ENABLE_ONEDNN_OPTS=0`.\n",
      "2023-08-25 15:07:53.688339: I tensorflow/core/platform/cpu_feature_guard.cc:182] This TensorFlow binary is optimized to use available CPU instructions in performance-critical operations.\n",
      "To enable the following instructions: AVX2 AVX_VNNI FMA, in other operations, rebuild TensorFlow with the appropriate compiler flags.\n"
     ]
    },
    {
     "name": "stdout",
     "output_type": "stream",
     "text": [
      "WARNING:tensorflow:From /tmp/ipykernel_28146/3310355199.py:3: is_gpu_available (from tensorflow.python.framework.test_util) is deprecated and will be removed in a future version.\n",
      "Instructions for updating:\n",
      "Use `tf.config.list_physical_devices('GPU')` instead.\n",
      "CUDA GPU is available\n",
      "GPU Name: /physical_device:GPU:0\n"
     ]
    },
    {
     "name": "stderr",
     "output_type": "stream",
     "text": [
      "2023-08-25 15:07:56.769674: I tensorflow/compiler/xla/stream_executor/cuda/cuda_gpu_executor.cc:982] could not open file to read NUMA node: /sys/bus/pci/devices/0000:01:00.0/numa_node\n",
      "Your kernel may have been built without NUMA support.\n",
      "2023-08-25 15:07:56.970932: I tensorflow/compiler/xla/stream_executor/cuda/cuda_gpu_executor.cc:982] could not open file to read NUMA node: /sys/bus/pci/devices/0000:01:00.0/numa_node\n",
      "Your kernel may have been built without NUMA support.\n",
      "2023-08-25 15:07:56.970968: I tensorflow/compiler/xla/stream_executor/cuda/cuda_gpu_executor.cc:982] could not open file to read NUMA node: /sys/bus/pci/devices/0000:01:00.0/numa_node\n",
      "Your kernel may have been built without NUMA support.\n",
      "2023-08-25 15:07:58.356284: I tensorflow/compiler/xla/stream_executor/cuda/cuda_gpu_executor.cc:982] could not open file to read NUMA node: /sys/bus/pci/devices/0000:01:00.0/numa_node\n",
      "Your kernel may have been built without NUMA support.\n",
      "2023-08-25 15:07:58.356335: I tensorflow/compiler/xla/stream_executor/cuda/cuda_gpu_executor.cc:982] could not open file to read NUMA node: /sys/bus/pci/devices/0000:01:00.0/numa_node\n",
      "Your kernel may have been built without NUMA support.\n",
      "2023-08-25 15:07:58.356341: I tensorflow/core/common_runtime/gpu/gpu_device.cc:1722] Could not identify NUMA node of platform GPU id 0, defaulting to 0.  Your kernel may not have been built with NUMA support.\n",
      "2023-08-25 15:07:58.356356: I tensorflow/compiler/xla/stream_executor/cuda/cuda_gpu_executor.cc:982] could not open file to read NUMA node: /sys/bus/pci/devices/0000:01:00.0/numa_node\n",
      "Your kernel may have been built without NUMA support.\n",
      "2023-08-25 15:07:58.356384: I tensorflow/core/common_runtime/gpu/gpu_device.cc:1635] Created device /device:GPU:0 with 5362 MB memory:  -> device: 0, name: NVIDIA GeForce RTX 3070 Ti Laptop GPU, pci bus id: 0000:01:00.0, compute capability: 8.6\n",
      "2023-08-25 15:07:58.361375: I tensorflow/compiler/xla/stream_executor/cuda/cuda_gpu_executor.cc:982] could not open file to read NUMA node: /sys/bus/pci/devices/0000:01:00.0/numa_node\n",
      "Your kernel may have been built without NUMA support.\n",
      "2023-08-25 15:07:58.361417: I tensorflow/compiler/xla/stream_executor/cuda/cuda_gpu_executor.cc:982] could not open file to read NUMA node: /sys/bus/pci/devices/0000:01:00.0/numa_node\n",
      "Your kernel may have been built without NUMA support.\n",
      "2023-08-25 15:07:58.361428: I tensorflow/compiler/xla/stream_executor/cuda/cuda_gpu_executor.cc:982] could not open file to read NUMA node: /sys/bus/pci/devices/0000:01:00.0/numa_node\n",
      "Your kernel may have been built without NUMA support.\n"
     ]
    }
   ],
   "source": [
    "import tensorflow as tf\n",
    "\n",
    "if tf.test.is_gpu_available():\n",
    "    print(\"CUDA GPU is available\")\n",
    "    print(\"GPU Name:\", tf.config.experimental.list_physical_devices(\"GPU\")[0].name)\n",
    "else:\n",
    "    print(\"CUDA GPU is not available\")"
   ]
  },
  {
   "cell_type": "code",
   "execution_count": 3,
   "metadata": {},
   "outputs": [
    {
     "name": "stdout",
     "output_type": "stream",
     "text": [
      "Number of available GPUs: 1\n",
      "GPU 0: NVIDIA GeForce RTX 3070 Ti Laptop GPU\n"
     ]
    }
   ],
   "source": [
    "import pynvml\n",
    "\n",
    "pynvml.nvmlInit()\n",
    "\n",
    "num_gpus = pynvml.nvmlDeviceGetCount()\n",
    "print(\"Number of available GPUs:\", num_gpus)\n",
    "\n",
    "for gpu_id in range(num_gpus):\n",
    "    handle = pynvml.nvmlDeviceGetHandleByIndex(gpu_id)\n",
    "    gpu_name = pynvml.nvmlDeviceGetName(handle)\n",
    "    print(f\"GPU {gpu_id}: {gpu_name}\")  # ('utf-8')}\")\n",
    "\n",
    "pynvml.nvmlShutdown()"
   ]
  },
  {
   "cell_type": "code",
   "execution_count": 4,
   "metadata": {},
   "outputs": [
    {
     "ename": "CudaSupportError",
     "evalue": "Error at driver init: Call to cuInit results in CUDA_ERROR_NO_DEVICE (100)",
     "output_type": "error",
     "traceback": [
      "\u001b[0;31m---------------------------------------------------------------------------\u001b[0m",
      "\u001b[0;31mCudaAPIError\u001b[0m                              Traceback (most recent call last)",
      "File \u001b[0;32m~/.local/lib/python3.10/site-packages/numba/cuda/cudadrv/driver.py:258\u001b[0m, in \u001b[0;36mDriver.ensure_initialized\u001b[0;34m(self)\u001b[0m\n\u001b[1;32m    257\u001b[0m     _logger\u001b[39m.\u001b[39minfo(\u001b[39m'\u001b[39m\u001b[39minit\u001b[39m\u001b[39m'\u001b[39m)\n\u001b[0;32m--> 258\u001b[0m     \u001b[39mself\u001b[39;49m\u001b[39m.\u001b[39;49mcuInit(\u001b[39m0\u001b[39;49m)\n\u001b[1;32m    259\u001b[0m \u001b[39mexcept\u001b[39;00m CudaAPIError \u001b[39mas\u001b[39;00m e:\n",
      "File \u001b[0;32m~/.local/lib/python3.10/site-packages/numba/cuda/cudadrv/driver.py:331\u001b[0m, in \u001b[0;36mDriver._ctypes_wrap_fn.<locals>.safe_cuda_api_call\u001b[0;34m(*args)\u001b[0m\n\u001b[1;32m    330\u001b[0m retcode \u001b[39m=\u001b[39m libfn(\u001b[39m*\u001b[39margs)\n\u001b[0;32m--> 331\u001b[0m \u001b[39mself\u001b[39;49m\u001b[39m.\u001b[39;49m_check_ctypes_error(fname, retcode)\n",
      "File \u001b[0;32m~/.local/lib/python3.10/site-packages/numba/cuda/cudadrv/driver.py:399\u001b[0m, in \u001b[0;36mDriver._check_ctypes_error\u001b[0;34m(self, fname, retcode)\u001b[0m\n\u001b[1;32m    398\u001b[0m     \u001b[39mself\u001b[39m\u001b[39m.\u001b[39m_detect_fork()\n\u001b[0;32m--> 399\u001b[0m \u001b[39mraise\u001b[39;00m CudaAPIError(retcode, msg)\n",
      "\u001b[0;31mCudaAPIError\u001b[0m: [100] Call to cuInit results in CUDA_ERROR_NO_DEVICE",
      "\nDuring handling of the above exception, another exception occurred:\n",
      "\u001b[0;31mCudaSupportError\u001b[0m                          Traceback (most recent call last)",
      "Cell \u001b[0;32mIn[4], line 7\u001b[0m\n\u001b[1;32m      4\u001b[0m devices \u001b[39m=\u001b[39m cuda\u001b[39m.\u001b[39mlist_devices()\n\u001b[1;32m      6\u001b[0m \u001b[39m# Print information about each device\u001b[39;00m\n\u001b[0;32m----> 7\u001b[0m \u001b[39mfor\u001b[39;00m device \u001b[39min\u001b[39;00m devices:\n\u001b[1;32m      8\u001b[0m     \u001b[39mprint\u001b[39m(\u001b[39m\"\u001b[39m\u001b[39mDevice Name:\u001b[39m\u001b[39m\"\u001b[39m, device\u001b[39m.\u001b[39mname)\n\u001b[1;32m      9\u001b[0m     \u001b[39mprint\u001b[39m(\u001b[39m\"\u001b[39m\u001b[39mDevice ID:\u001b[39m\u001b[39m\"\u001b[39m, device\u001b[39m.\u001b[39mid)\n",
      "File \u001b[0;32m~/.local/lib/python3.10/site-packages/numba/cuda/cudadrv/devices.py:46\u001b[0m, in \u001b[0;36m_DeviceList.__iter__\u001b[0;34m(self)\u001b[0m\n\u001b[1;32m     45\u001b[0m \u001b[39mdef\u001b[39;00m \u001b[39m__iter__\u001b[39m(\u001b[39mself\u001b[39m):\n\u001b[0;32m---> 46\u001b[0m     \u001b[39mreturn\u001b[39;00m \u001b[39miter\u001b[39m(\u001b[39mself\u001b[39;49m\u001b[39m.\u001b[39;49mlst)\n",
      "File \u001b[0;32m~/.local/lib/python3.10/site-packages/numba/cuda/cudadrv/devices.py:26\u001b[0m, in \u001b[0;36m_DeviceList.__getattr__\u001b[0;34m(self, attr)\u001b[0m\n\u001b[1;32m     21\u001b[0m \u001b[39mdef\u001b[39;00m \u001b[39m__getattr__\u001b[39m(\u001b[39mself\u001b[39m, attr):\n\u001b[1;32m     22\u001b[0m     \u001b[39m# First time looking at \"lst\" attribute.\u001b[39;00m\n\u001b[1;32m     23\u001b[0m     \u001b[39mif\u001b[39;00m attr \u001b[39m==\u001b[39m \u001b[39m\"\u001b[39m\u001b[39mlst\u001b[39m\u001b[39m\"\u001b[39m:\n\u001b[1;32m     24\u001b[0m         \u001b[39m# Device list is not initialized.\u001b[39;00m\n\u001b[1;32m     25\u001b[0m         \u001b[39m# Query all CUDA devices.\u001b[39;00m\n\u001b[0;32m---> 26\u001b[0m         numdev \u001b[39m=\u001b[39m driver\u001b[39m.\u001b[39;49mget_device_count()\n\u001b[1;32m     27\u001b[0m         gpus \u001b[39m=\u001b[39m [_DeviceContextManager(driver\u001b[39m.\u001b[39mget_device(devid))\n\u001b[1;32m     28\u001b[0m                 \u001b[39mfor\u001b[39;00m devid \u001b[39min\u001b[39;00m \u001b[39mrange\u001b[39m(numdev)]\n\u001b[1;32m     29\u001b[0m         \u001b[39m# Define \"lst\" to avoid re-initialization\u001b[39;00m\n",
      "File \u001b[0;32m~/.local/lib/python3.10/site-packages/numba/cuda/cudadrv/driver.py:428\u001b[0m, in \u001b[0;36mDriver.get_device_count\u001b[0;34m(self)\u001b[0m\n\u001b[1;32m    425\u001b[0m     \u001b[39mreturn\u001b[39;00m \u001b[39mself\u001b[39m\u001b[39m.\u001b[39mcuDeviceGetCount()\n\u001b[1;32m    427\u001b[0m count \u001b[39m=\u001b[39m c_int()\n\u001b[0;32m--> 428\u001b[0m \u001b[39mself\u001b[39;49m\u001b[39m.\u001b[39;49mcuDeviceGetCount(byref(count))\n\u001b[1;32m    429\u001b[0m \u001b[39mreturn\u001b[39;00m count\u001b[39m.\u001b[39mvalue\n",
      "File \u001b[0;32m~/.local/lib/python3.10/site-packages/numba/cuda/cudadrv/driver.py:296\u001b[0m, in \u001b[0;36mDriver.__getattr__\u001b[0;34m(self, fname)\u001b[0m\n\u001b[1;32m    294\u001b[0m \u001b[39mdef\u001b[39;00m \u001b[39m__getattr__\u001b[39m(\u001b[39mself\u001b[39m, fname):\n\u001b[1;32m    295\u001b[0m     \u001b[39m# First request of a driver API function\u001b[39;00m\n\u001b[0;32m--> 296\u001b[0m     \u001b[39mself\u001b[39;49m\u001b[39m.\u001b[39;49mensure_initialized()\n\u001b[1;32m    298\u001b[0m     \u001b[39mif\u001b[39;00m \u001b[39mself\u001b[39m\u001b[39m.\u001b[39minitialization_error \u001b[39mis\u001b[39;00m \u001b[39mnot\u001b[39;00m \u001b[39mNone\u001b[39;00m:\n\u001b[1;32m    299\u001b[0m         \u001b[39mraise\u001b[39;00m CudaSupportError(\u001b[39m\"\u001b[39m\u001b[39mError at driver init: \u001b[39m\u001b[39m\\n\u001b[39;00m\u001b[39m%s\u001b[39;00m\u001b[39m:\u001b[39m\u001b[39m\"\u001b[39m \u001b[39m%\u001b[39m\n\u001b[1;32m    300\u001b[0m                                \u001b[39mself\u001b[39m\u001b[39m.\u001b[39minitialization_error)\n",
      "File \u001b[0;32m~/.local/lib/python3.10/site-packages/numba/cuda/cudadrv/driver.py:262\u001b[0m, in \u001b[0;36mDriver.ensure_initialized\u001b[0;34m(self)\u001b[0m\n\u001b[1;32m    260\u001b[0m     description \u001b[39m=\u001b[39m \u001b[39mf\u001b[39m\u001b[39m\"\u001b[39m\u001b[39m{\u001b[39;00me\u001b[39m.\u001b[39mmsg\u001b[39m}\u001b[39;00m\u001b[39m (\u001b[39m\u001b[39m{\u001b[39;00me\u001b[39m.\u001b[39mcode\u001b[39m}\u001b[39;00m\u001b[39m)\u001b[39m\u001b[39m\"\u001b[39m\n\u001b[1;32m    261\u001b[0m     \u001b[39mself\u001b[39m\u001b[39m.\u001b[39minitialization_error \u001b[39m=\u001b[39m description\n\u001b[0;32m--> 262\u001b[0m     \u001b[39mraise\u001b[39;00m CudaSupportError(\u001b[39mf\u001b[39m\u001b[39m\"\u001b[39m\u001b[39mError at driver init: \u001b[39m\u001b[39m{\u001b[39;00mdescription\u001b[39m}\u001b[39;00m\u001b[39m\"\u001b[39m)\n\u001b[1;32m    263\u001b[0m \u001b[39melse\u001b[39;00m:\n\u001b[1;32m    264\u001b[0m     \u001b[39mself\u001b[39m\u001b[39m.\u001b[39mpid \u001b[39m=\u001b[39m _getpid()\n",
      "\u001b[0;31mCudaSupportError\u001b[0m: Error at driver init: Call to cuInit results in CUDA_ERROR_NO_DEVICE (100)"
     ]
    }
   ],
   "source": [
    "from numba import cuda\n",
    "\n",
    "# Get a list of available CUDA devices\n",
    "devices = cuda.list_devices()\n",
    "\n",
    "# Print information about each device\n",
    "for device in devices:\n",
    "    print(\"Device Name:\", device.name)\n",
    "    print(\"Device ID:\", device.id)\n",
    "    print(\"Compute Capability:\", device.compute_capability)\n",
    "    print(\"Memory Total (GB):\", device.memory_total / 1024**3)  # Convert to GB\n",
    "    print()"
   ]
  },
  {
   "cell_type": "code",
   "execution_count": 2,
   "metadata": {},
   "outputs": [
    {
     "ename": "AttributeError",
     "evalue": "module 'Image' has no attribute 'ImageStartShapeVector'",
     "output_type": "error",
     "traceback": [
      "\u001b[0;31m---------------------------------------------------------------------------\u001b[0m",
      "\u001b[0;31mAttributeError\u001b[0m                            Traceback (most recent call last)",
      "Cell \u001b[0;32mIn[2], line 47\u001b[0m\n\u001b[1;32m     44\u001b[0m reshaped_array \u001b[39m=\u001b[39m serialized_array\u001b[39m.\u001b[39mreshape((\u001b[39m256\u001b[39m, \u001b[39m16384\u001b[39m))\n\u001b[1;32m     46\u001b[0m \u001b[39m# Serialize reshaped array as FlatBuffers\u001b[39;00m\n\u001b[0;32m---> 47\u001b[0m flatbuffer_data \u001b[39m=\u001b[39m numpy_to_flatbuffer(reshaped_array)\n\u001b[1;32m     49\u001b[0m \u001b[39m# Save the FlatBuffers buffer to a file\u001b[39;00m\n\u001b[1;32m     50\u001b[0m \u001b[39mwith\u001b[39;00m \u001b[39mopen\u001b[39m(\u001b[39m\"\u001b[39m\u001b[39mserialized_array.fb\u001b[39m\u001b[39m\"\u001b[39m, \u001b[39m\"\u001b[39m\u001b[39mwb\u001b[39m\u001b[39m\"\u001b[39m) \u001b[39mas\u001b[39;00m f:\n",
      "Cell \u001b[0;32mIn[2], line 13\u001b[0m, in \u001b[0;36mnumpy_to_flatbuffer\u001b[0;34m(np_array)\u001b[0m\n\u001b[1;32m     10\u001b[0m flat_data \u001b[39m=\u001b[39m np_array\u001b[39m.\u001b[39mtobytes()\n\u001b[1;32m     12\u001b[0m \u001b[39m# Create Image structure\u001b[39;00m\n\u001b[0;32m---> 13\u001b[0m ImageData\u001b[39m.\u001b[39;49mImageStartShapeVector(builder, \u001b[39m3\u001b[39m)\n\u001b[1;32m     14\u001b[0m \u001b[39mfor\u001b[39;00m dim \u001b[39min\u001b[39;00m np_array\u001b[39m.\u001b[39mshape:\n\u001b[1;32m     15\u001b[0m     builder\u001b[39m.\u001b[39mPrependInt32(dim)\n",
      "\u001b[0;31mAttributeError\u001b[0m: module 'Image' has no attribute 'ImageStartShapeVector'"
     ]
    }
   ],
   "source": []
  },
  {
   "cell_type": "code",
   "execution_count": 8,
   "metadata": {},
   "outputs": [
    {
     "ename": "ValueError",
     "evalue": "invalid literal for int() with base 10: b\"\\x00\\x00@c\\x02\\xfaT\\xbc\\x00\\x00\\x00\\x94un2\\xbc\\x00\\x00\\x00,\\x1eG><\\x00\\x00\\x00\\x06\\x95\\x01%<\\x00\\x00\\x00\\xd3m\\x9d0\\xbc\\x00\\x00\\x00\\xe8,\\xe5\\r<\\x00\\x00\\x00\\x16\\x9fP5<\\x00\\x00\\x00\\xbe?1G\\xbc\\x00\\x00\\x",
     "output_type": "error",
     "traceback": [
      "\u001b[0;31m---------------------------------------------------------------------------\u001b[0m",
      "\u001b[0;31mValueError\u001b[0m                                Traceback (most recent call last)",
      "Cell \u001b[0;32mIn[8], line 24\u001b[0m\n\u001b[1;32m     22\u001b[0m Image\u001b[39m.\u001b[39mImageStart(builder)\n\u001b[1;32m     23\u001b[0m Image\u001b[39m.\u001b[39mImageAddShape(builder, \u001b[39m128\u001b[39m)\n\u001b[0;32m---> 24\u001b[0m Image\u001b[39m.\u001b[39;49mImageAddData(builder, img_data_bytes)\n\u001b[1;32m     25\u001b[0m image \u001b[39m=\u001b[39m Image\u001b[39m.\u001b[39mImageEnd(builder)\n\u001b[1;32m     27\u001b[0m images\u001b[39m.\u001b[39mappend(image)\n",
      "File \u001b[0;32m~/stuff/data-analysis/src/notebook-dev/kmedioids/MyData/Image.py:59\u001b[0m, in \u001b[0;36mImageAddData\u001b[0;34m(builder, data)\u001b[0m\n\u001b[0;32m---> 59\u001b[0m \u001b[39mdef\u001b[39;00m \u001b[39mImageAddData\u001b[39m(builder, data): builder\u001b[39m.\u001b[39mPrependUOffsetTRelativeSlot(\u001b[39m1\u001b[39m, flatbuffers\u001b[39m.\u001b[39;49mnumber_types\u001b[39m.\u001b[39;49mUOffsetTFlags\u001b[39m.\u001b[39;49mpy_type(data), \u001b[39m0\u001b[39m)\n",
      "\u001b[0;31mValueError\u001b[0m: invalid literal for int() with base 10: b\"\\x00\\x00@c\\x02\\xfaT\\xbc\\x00\\x00\\x00\\x94un2\\xbc\\x00\\x00\\x00,\\x1eG><\\x00\\x00\\x00\\x06\\x95\\x01%<\\x00\\x00\\x00\\xd3m\\x9d0\\xbc\\x00\\x00\\x00\\xe8,\\xe5\\r<\\x00\\x00\\x00\\x16\\x9fP5<\\x00\\x00\\x00\\xbe?1G\\xbc\\x00\\x00\\x"
     ]
    }
   ],
   "source": [
    "import flatbuffers\n",
    "import numpy as np\n",
    "import MyData.Image as Image\n",
    "import MyData.Data as Data\n",
    "\n",
    "# Deserialize the serialized NumPy array\n",
    "serialized_array = np.load(\"../../../data/images_from_structures.npy\")\n",
    "\n",
    "# Reshape the array to (256, 16384)\n",
    "reshaped_array = serialized_array.reshape(256, 16384)\n",
    "\n",
    "# Create a FlatBuffers builder\n",
    "builder = flatbuffers.Builder(1024)\n",
    "\n",
    "# Serialize each image as an Image\n",
    "images = []\n",
    "for img_data in reshaped_array:\n",
    "    # Convert the image data to bytes\n",
    "    byte_array = img_data.tobytes()\n",
    "    Image.ImageStartDataVector(builder, len(byte_array))\n",
    "    builder.head = builder.head - len(byte_array)\n",
    "    builder.Bytes[builder.head : builder.head + len(byte_array)] = byte_array\n",
    "    data_vector = builder.EndVector(len(byte_array))\n",
    "    # Create an Image object\n",
    "    Image.ImageStart(builder)\n",
    "    Image.ImageAddShape(builder, 128)\n",
    "    Image.ImageAddData(builder, data_vector)\n",
    "    image = Image.ImageEnd(builder)\n",
    "\n",
    "    images.append(image)\n",
    "\n",
    "# Serialize the list of images as Data\n",
    "Data.DataStartMVector(builder, len(images))\n",
    "for img in reversed(images):\n",
    "    builder.PrependUOffsetTRelative(img)\n",
    "m_vector = builder.EndVector(len(images))\n",
    "\n",
    "Data.DataStart(builder)\n",
    "Data.DataAddM(builder, m_vector)\n",
    "data = Data.DataEnd(builder)\n",
    "\n",
    "builder.Finish(data)\n",
    "\n",
    "# Save the FlatBuffers buffer to a file\n",
    "with open(\"serialized_data.fb\", \"wb\") as f:\n",
    "    f.write(builder.Output())"
   ]
  },
  {
   "cell_type": "code",
   "execution_count": null,
   "metadata": {},
   "outputs": [],
   "source": []
  }
 ],
 "metadata": {
  "kernelspec": {
   "display_name": "Python 3 (ipykernel)",
   "language": "python",
   "name": "python3"
  },
  "language_info": {
   "codemirror_mode": {
    "name": "ipython",
    "version": 3
   },
   "file_extension": ".py",
   "mimetype": "text/x-python",
   "name": "python",
   "nbconvert_exporter": "python",
   "pygments_lexer": "ipython3",
   "version": "3.10.6"
  },
  "orig_nbformat": 4
 },
 "nbformat": 4,
 "nbformat_minor": 2
}
